{
 "cells": [
  {
   "attachments": {},
   "cell_type": "markdown",
   "metadata": {},
   "source": [
    "# <span style=\"color:darkblue\"> Lecture 14 - Aggregating Data </span>\n",
    "\n",
    "<font size = \"5\">\n",
    "\n",
    "In the previous class we covered\n",
    "\n",
    "- Missing values\n",
    "- The basics of data cleaning\n",
    "\n",
    "This class we will talk about \n",
    "- Computing aggregate statistics by group\n",
    "- Introduction to merging"
   ]
  },
  {
   "attachments": {},
   "cell_type": "markdown",
   "metadata": {},
   "source": [
    "# <span style=\"color:darkblue\"> I. Import Libraries and Data </span>\n"
   ]
  },
  {
   "attachments": {},
   "cell_type": "markdown",
   "metadata": {},
   "source": [
    "<font size = \"5\">\n",
    "Key libraries"
   ]
  },
  {
   "cell_type": "code",
<<<<<<< HEAD
   "execution_count": 9,
=======
   "execution_count": 49,
>>>>>>> upstream/main
   "metadata": {},
   "outputs": [],
   "source": [
    "import numpy as np\n",
    "import pandas as pd\n",
    "import matplotlib.pyplot as plt"
   ]
  },
  {
   "attachments": {},
   "cell_type": "markdown",
   "metadata": {},
   "source": [
    "<font size = \"5\">\n",
    "\n",
    "Read dataset on car racing circuits\n",
    "\n",
    "- https://en.wikipedia.org/wiki/Formula_One <br>\n",
    "- [See Data Source](https://www.kaggle.com/datasets/rohanrao/formula-1-world-championship-1950-2020)"
   ]
  },
  {
   "cell_type": "code",
<<<<<<< HEAD
   "execution_count": 10,
=======
   "execution_count": 50,
>>>>>>> upstream/main
   "metadata": {},
   "outputs": [],
   "source": [
    "results = pd.read_csv(\"data_raw/results.csv\")"
   ]
  },
  {
   "attachments": {},
   "cell_type": "markdown",
   "metadata": {},
   "source": [
    "<font size = \"5\">\n",
    "\n",
    "The dataset \"codebook\" is a table with ...\n",
    "\n",
    "- Key column information\n",
    "- Main things:  Field, Type, Key, and Description\n",
    "\n",
    "<img src=\"figures/codebook_races.png\" alt=\"drawing\" width=\"600\"/>\n"
   ]
  },
  {
   "cell_type": "code",
<<<<<<< HEAD
   "execution_count": 11,
=======
   "execution_count": 51,
>>>>>>> upstream/main
   "metadata": {},
   "outputs": [],
   "source": [
    "# The codebook contains basic about the columns\n",
    "# \"Field\" is the name given to the name of the column\n",
    "# \"Type\"  is the variable type:\n",
    "#         integer (int)\n",
    "#         string (varchar - \"variable character\")\n",
    "#         float (float)\n",
    "#         The number in parenthesis is the maximum number of characters/digits\n",
    "#         For most purposes we can ignore the numbers in parentheses.\n",
    "# \"Key\" denotes whether this is the primary key \"PRI\" (also known as the identifier)\n",
    "#         This is a column with unique values, that uniquely identifies each row\n",
    "# \"Description\" contains a label with the content of the variable"
   ]
  },
  {
   "attachments": {},
   "cell_type": "markdown",
   "metadata": {},
   "source": [
    "<font size = \"5\">\n",
    "\n",
    "Get column names + types\n",
    "\n",
    "- Do types match the codebook?\n",
    "- If not the data may need to be cleaned"
   ]
  },
  {
   "cell_type": "code",
<<<<<<< HEAD
   "execution_count": 12,
=======
   "execution_count": 52,
>>>>>>> upstream/main
   "metadata": {},
   "outputs": [
    {
     "data": {
      "text/plain": [
       "resultId             int64\n",
       "raceId               int64\n",
       "driverId             int64\n",
       "constructorId        int64\n",
       "number              object\n",
       "grid                 int64\n",
       "position            object\n",
       "positionText        object\n",
       "positionOrder        int64\n",
       "points             float64\n",
       "laps                 int64\n",
       "time                object\n",
       "milliseconds        object\n",
       "fastestLap          object\n",
       "rank                object\n",
       "fastestLapTime      object\n",
       "fastestLapSpeed     object\n",
       "statusId             int64\n",
       "dtype: object"
      ]
     },
<<<<<<< HEAD
     "execution_count": 12,
=======
     "execution_count": 52,
>>>>>>> upstream/main
     "metadata": {},
     "output_type": "execute_result"
    }
   ],
   "source": [
    "# This code displays column types\n",
    "# \"int\" or \"float\" objects are numneric\n",
    "# \"object\" typically denotes strings\n",
    "# If a column that's supposed to be \"numeric\" but appears as \"object\"\n",
    "# then it needs to be cleaned and converted to numeric \n",
    "\n",
    "results.dtypes\n"
   ]
  },
  {
   "attachments": {},
   "cell_type": "markdown",
   "metadata": {},
   "source": [
    "<font size = \"5\">\n",
    "\n",
    "Try it yourself!\n",
    "\n",
    "- How many rows does the dataset have?\n",
    "- How many unique values are there for the columns <br>\n",
    "$\\qquad$ \"resultId\"? <br>\n",
    "$\\qquad$ \"raceId\"? <br>\n",
    "$\\qquad$ \"driverId\"? <br>\n",
    "\n",
    "HINT: Use the \"len()\" and the \"pd.unique()\" functions"
   ]
  },
  {
   "cell_type": "code",
<<<<<<< HEAD
   "execution_count": 13,
=======
   "execution_count": 53,
>>>>>>> upstream/main
   "metadata": {},
   "outputs": [
    {
     "name": "stdout",
     "output_type": "stream",
     "text": [
      "25840\n",
      "25840\n",
      "1079\n",
      "855\n"
     ]
    }
   ],
   "source": [
    "# Write your own code here\n",
    "\n",
    "print(len(results))\n",
    "\n",
    "print(len(pd.unique(results[\"resultId\"])))\n",
    "print(len(pd.unique(results[\"raceId\"])))\n",
    "print(len(pd.unique(results[\"driverId\"])))\n"
   ]
  },
  {
   "attachments": {},
   "cell_type": "markdown",
   "metadata": {},
   "source": [
    "# <span style=\"color:darkblue\"> II. Aggregate + groupby  </span>\n",
    "\n"
   ]
  },
  {
   "attachments": {},
   "cell_type": "markdown",
   "metadata": {},
   "source": [
    "<font size = \"5\">\n",
    "\n",
    "Splitting code into multiple lines\n",
    "\n",
    "- Makes it easier to read\n",
    "- Simply wrap the code in round parentheses \"()\""
   ]
  },
  {
   "cell_type": "code",
<<<<<<< HEAD
   "execution_count": 14,
=======
   "execution_count": 54,
>>>>>>> upstream/main
   "metadata": {},
   "outputs": [
    {
     "data": {
      "text/plain": [
       "count    25840.000000\n",
       "mean         1.877053\n",
       "std          4.169849\n",
       "min          0.000000\n",
       "25%          0.000000\n",
       "50%          0.000000\n",
       "75%          2.000000\n",
       "max         50.000000\n",
       "Name: points, dtype: float64"
      ]
     },
<<<<<<< HEAD
     "execution_count": 14,
=======
     "execution_count": 54,
>>>>>>> upstream/main
     "metadata": {},
     "output_type": "execute_result"
    }
   ],
   "source": [
    "# The following code computes descriptive statistics for points \n",
    "# Wrapping the code in parentheses \"()\" allows you to split it into multiple \n",
    "# lines. It's considered good practice to make each line less than 80 characters\n",
    "# This makes it easier to scroll up and down without going sideways.\n",
    "\n",
    "descriptives_singleline = (results[\"points\"]\n",
    "                           .describe())\n",
    "\n",
    "descriptives_singleline"
   ]
  },
  {
   "attachments": {},
   "cell_type": "markdown",
   "metadata": {},
   "source": [
    "<font size = \"5\">\n",
    "\n",
    "Aggregate statistics "
   ]
  },
  {
   "cell_type": "code",
<<<<<<< HEAD
   "execution_count": 15,
=======
   "execution_count": 55,
>>>>>>> upstream/main
   "metadata": {},
   "outputs": [
    {
     "data": {
      "application/vnd.microsoft.datawrangler.viewer.v0+json": {
       "columns": [
        {
         "name": "index",
         "rawType": "object",
         "type": "string"
        },
        {
         "name": "points",
         "rawType": "float64",
         "type": "float"
        }
       ],
       "conversionMethod": "pd.DataFrame",
<<<<<<< HEAD
       "ref": "4385ef53-bb41-4e53-9c19-74e4c79f72e6",
=======
       "ref": "4cc722a0-14f1-4982-941e-75245a44b66f",
>>>>>>> upstream/main
       "rows": [
        [
         "mean_points",
         "1.8770530185758516"
        ],
        [
         "sd_points",
         "4.169848865814643"
        ],
        [
         "min_points",
         "0.0"
        ],
        [
         "max_points",
         "50.0"
        ],
        [
         "count_obs",
         "25840.0"
        ]
       ],
       "shape": {
        "columns": 1,
        "rows": 5
       }
      },
      "text/html": [
       "<div>\n",
       "<style scoped>\n",
       "    .dataframe tbody tr th:only-of-type {\n",
       "        vertical-align: middle;\n",
       "    }\n",
       "\n",
       "    .dataframe tbody tr th {\n",
       "        vertical-align: top;\n",
       "    }\n",
       "\n",
       "    .dataframe thead th {\n",
       "        text-align: right;\n",
       "    }\n",
       "</style>\n",
       "<table border=\"1\" class=\"dataframe\">\n",
       "  <thead>\n",
       "    <tr style=\"text-align: right;\">\n",
       "      <th></th>\n",
       "      <th>points</th>\n",
       "    </tr>\n",
       "  </thead>\n",
       "  <tbody>\n",
       "    <tr>\n",
       "      <th>mean_points</th>\n",
       "      <td>1.877053</td>\n",
       "    </tr>\n",
       "    <tr>\n",
       "      <th>sd_points</th>\n",
       "      <td>4.169849</td>\n",
       "    </tr>\n",
       "    <tr>\n",
       "      <th>min_points</th>\n",
       "      <td>0.000000</td>\n",
       "    </tr>\n",
       "    <tr>\n",
       "      <th>max_points</th>\n",
       "      <td>50.000000</td>\n",
       "    </tr>\n",
       "    <tr>\n",
       "      <th>count_obs</th>\n",
       "      <td>25840.000000</td>\n",
       "    </tr>\n",
       "  </tbody>\n",
       "</table>\n",
       "</div>"
      ],
      "text/plain": [
       "                   points\n",
       "mean_points      1.877053\n",
       "sd_points        4.169849\n",
       "min_points       0.000000\n",
       "max_points      50.000000\n",
       "count_obs    25840.000000"
      ]
     },
     "metadata": {},
     "output_type": "display_data"
    }
   ],
   "source": [
    "# The \".agg()\" subfunction computes aggregate statistics\n",
    "# The syntax is (\"column_name\",\"function_name\")\n",
    "# The first argument is the column name\n",
    "# The second argument is the function_name\n",
    "# The command works with single quotations '...' or double \"...\"\n",
    "\n",
    "results_agg = results.agg(mean_points = ('points','mean'),\n",
    "                          sd_points =   ('points','std'),\n",
    "                          min_points =  ('points','min'),\n",
    "                          max_points =  ('points','max'),\n",
    "                          count_obs   = ('points',len))\n",
    "\n",
    "display(results_agg)"
   ]
  },
  {
   "attachments": {},
   "cell_type": "markdown",
   "metadata": {},
   "source": [
    "<font size = \"5\" >\n",
    "\n",
    "Groupby + Aggregate statistics\n",
    "\n",
    "<img src=\"figures/agg.png\" alt=\"drawing\" width=\"400\"/>"
   ]
  },
  {
   "cell_type": "code",
<<<<<<< HEAD
   "execution_count": 16,
=======
   "execution_count": 56,
>>>>>>> upstream/main
   "metadata": {},
   "outputs": [
    {
     "data": {
      "application/vnd.microsoft.datawrangler.viewer.v0+json": {
       "columns": [
        {
         "name": "driverId",
         "rawType": "int64",
         "type": "integer"
        },
        {
         "name": "mean_points",
         "rawType": "float64",
         "type": "float"
        },
        {
         "name": "sd_points",
         "rawType": "float64",
         "type": "float"
        },
        {
         "name": "min_points",
         "rawType": "float64",
         "type": "float"
        },
        {
         "name": "max_points",
         "rawType": "float64",
         "type": "float"
        },
        {
         "name": "count_obs",
         "rawType": "int64",
         "type": "integer"
        }
       ],
       "conversionMethod": "pd.DataFrame",
<<<<<<< HEAD
       "ref": "d86acc34-a643-4106-8a46-b24568a74795",
=======
       "ref": "b8a76766-b576-44a3-a16a-4f61605aa5ca",
>>>>>>> upstream/main
       "rows": [
        [
         "1",
         "14.182258064516128",
         "9.224098243847557",
         "0.0",
         "50.0",
         "310"
        ],
        [
         "2",
         "1.4076086956521738",
         "2.372922557423763",
         "0.0",
         "15.0",
         "184"
        ],
        [
         "3",
         "7.740291262135922",
         "8.672455860162094",
         "0.0",
         "25.0",
         "206"
        ],
        [
         "4",
         "5.756983240223463",
         "6.330721312003123",
         "0.0",
         "25.0",
         "358"
        ],
        [
         "5",
         "0.9375",
         "1.9695028411864353",
         "0.0",
         "10.0",
         "112"
        ],
        [
         "6",
         "0.25",
         "0.6917885721601857",
         "0.0",
         "3.0",
         "36"
        ],
        [
         "7",
         "0.2222222222222222",
         "0.5773502691896258",
         "0.0",
         "2.0",
         "27"
        ],
        [
         "8",
         "5.3210227272727275",
         "5.814003242937152",
         "0.0",
         "25.0",
         "352"
        ],
        [
         "9",
         "2.7676767676767677",
         "3.97139846552896",
         "0.0",
         "18.0",
         "99"
        ],
        [
         "10",
         "0.5368421052631579",
         "1.5423836644690754",
         "0.0",
         "8.0",
         "95"
        ],
        [
         "11",
         "0.4835164835164835",
         "1.2854972005037786",
         "0.0",
         "6.0",
         "91"
        ],
        [
         "12",
         "0.6785714285714286",
         "1.826828286211265",
         "0.0",
         "8.0",
         "28"
        ],
        [
         "13",
         "4.306273062730627",
         "5.0755694209992654",
         "0.0",
         "36.0",
         "271"
        ],
        [
         "14",
         "2.165991902834008",
         "2.8486156472267776",
         "0.0",
         "10.0",
         "247"
        ],
        [
         "15",
         "0.962890625",
         "1.8712452191904558",
         "0.0",
         "10.0",
         "256"
        ],
        [
         "16",
         "0.96875",
         "2.3034978537443274",
         "0.0",
         "10.0",
         "128"
        ],
        [
         "17",
         "4.8271889400921655",
         "6.798614232862791",
         "0.0",
         "25.0",
         "217"
        ],
        [
         "18",
         "3.9967637540453076",
         "5.949734459793864",
         "0.0",
         "25.0",
         "309"
        ],
        [
         "19",
         "0.0",
         "0.0",
         "0.0",
         "0.0",
         "24"
        ],
        [
         "20",
         "10.326666666666666",
         "8.948381641516505",
         "0.0",
         "25.0",
         "300"
        ],
        [
         "21",
         "1.1904761904761905",
         "2.140315953534053",
         "0.0",
         "10.0",
         "231"
        ],
        [
         "22",
         "2.01840490797546",
         "2.9172640346483485",
         "0.0",
         "12.0",
         "326"
        ],
        [
         "23",
         "1.8277777777777777",
         "2.4627516870624846",
         "0.0",
         "10.0",
         "180"
        ],
        [
         "24",
         "0.32098765432098764",
         "1.2023639267483364",
         "0.0",
         "8.0",
         "81"
        ],
        [
         "25",
         "0.6521739130434783",
         "1.4635380876544843",
         "0.0",
         "6.0",
         "69"
        ],
        [
         "26",
         "0.0",
         "0.0",
         "0.0",
         "0.0",
         "28"
        ],
        [
         "27",
         "0.08695652173913043",
         "0.5897678246195884",
         "0.0",
         "4.0",
         "46"
        ],
        [
         "28",
         "0.0",
         null,
         "0.0",
         "0.0",
         "1"
        ],
        [
         "29",
         "0.0",
         "0.0",
         "0.0",
         "0.0",
         "21"
        ],
        [
         "30",
         "5.084415584415584",
         "4.183029618697003",
         "0.0",
         "15.0",
         "308"
        ],
        [
         "31",
         "3.231578947368421",
         "3.311657782385913",
         "0.0",
         "10.0",
         "95"
        ],
        [
         "32",
         "0.27450980392156865",
         "0.7766191182954232",
         "0.0",
         "4.0",
         "51"
        ],
        [
         "33",
         "0.1891891891891892",
         "0.9954853042566681",
         "0.0",
         "6.0",
         "37"
        ],
        [
         "34",
         "0.0",
         "0.0",
         "0.0",
         "0.0",
         "4"
        ],
        [
         "35",
         "1.4242424242424243",
         "2.7456207151760497",
         "0.0",
         "10.0",
         "165"
        ],
        [
         "36",
         "0.0",
         "0.0",
         "0.0",
         "0.0",
         "7"
        ],
        [
         "37",
         "0.32710280373831774",
         "1.1877972393403335",
         "0.0",
         "8.0",
         "107"
        ],
        [
         "38",
         "0.0",
         "0.0",
         "0.0",
         "0.0",
         "11"
        ],
        [
         "39",
         "0.10416666666666667",
         "0.7216878364870323",
         "0.0",
         "5.0",
         "48"
        ],
        [
         "40",
         "0.2727272727272727",
         "0.9045340337332909",
         "0.0",
         "3.0",
         "11"
        ],
        [
         "41",
         "0.07894736842105263",
         "0.2732763127330939",
         "0.0",
         "1.0",
         "38"
        ],
        [
         "42",
         "0.4",
         "0.8207826816681233",
         "0.0",
         "2.0",
         "20"
        ],
        [
         "43",
         "0.4642857142857143",
         "1.0357370915204895",
         "0.0",
         "3.0",
         "28"
        ],
        [
         "44",
         "0.4810126582278481",
         "1.3624702134877282",
         "0.0",
         "10.0",
         "158"
        ],
        [
         "45",
         "0.0",
         "0.0",
         "0.0",
         "0.0",
         "14"
        ],
        [
         "46",
         "0.0",
         "0.0",
         "0.0",
         "0.0",
         "18"
        ],
        [
         "47",
         "0.05",
         "0.22360679774997894",
         "0.0",
         "1.0",
         "20"
        ],
        [
         "48",
         "0.1388888888888889",
         "0.6825489109748956",
         "0.0",
         "4.0",
         "36"
        ],
        [
         "49",
         "1.0943396226415094",
         "1.9706467897627895",
         "0.0",
         "10.0",
         "159"
        ],
        [
         "50",
         "0.1588785046728972",
         "0.675019674210558",
         "0.0",
         "4.0",
         "107"
        ]
       ],
       "shape": {
        "columns": 5,
        "rows": 855
       }
      },
      "text/html": [
       "<div>\n",
       "<style scoped>\n",
       "    .dataframe tbody tr th:only-of-type {\n",
       "        vertical-align: middle;\n",
       "    }\n",
       "\n",
       "    .dataframe tbody tr th {\n",
       "        vertical-align: top;\n",
       "    }\n",
       "\n",
       "    .dataframe thead th {\n",
       "        text-align: right;\n",
       "    }\n",
       "</style>\n",
       "<table border=\"1\" class=\"dataframe\">\n",
       "  <thead>\n",
       "    <tr style=\"text-align: right;\">\n",
       "      <th></th>\n",
       "      <th>mean_points</th>\n",
       "      <th>sd_points</th>\n",
       "      <th>min_points</th>\n",
       "      <th>max_points</th>\n",
       "      <th>count_obs</th>\n",
       "    </tr>\n",
       "    <tr>\n",
       "      <th>driverId</th>\n",
       "      <th></th>\n",
       "      <th></th>\n",
       "      <th></th>\n",
       "      <th></th>\n",
       "      <th></th>\n",
       "    </tr>\n",
       "  </thead>\n",
       "  <tbody>\n",
       "    <tr>\n",
       "      <th>1</th>\n",
       "      <td>14.182258</td>\n",
       "      <td>9.224098</td>\n",
       "      <td>0.0</td>\n",
       "      <td>50.0</td>\n",
       "      <td>310</td>\n",
       "    </tr>\n",
       "    <tr>\n",
       "      <th>2</th>\n",
       "      <td>1.407609</td>\n",
       "      <td>2.372923</td>\n",
       "      <td>0.0</td>\n",
       "      <td>15.0</td>\n",
       "      <td>184</td>\n",
       "    </tr>\n",
       "    <tr>\n",
       "      <th>3</th>\n",
       "      <td>7.740291</td>\n",
       "      <td>8.672456</td>\n",
       "      <td>0.0</td>\n",
       "      <td>25.0</td>\n",
       "      <td>206</td>\n",
       "    </tr>\n",
       "    <tr>\n",
       "      <th>4</th>\n",
       "      <td>5.756983</td>\n",
       "      <td>6.330721</td>\n",
       "      <td>0.0</td>\n",
       "      <td>25.0</td>\n",
       "      <td>358</td>\n",
       "    </tr>\n",
       "    <tr>\n",
       "      <th>5</th>\n",
       "      <td>0.937500</td>\n",
       "      <td>1.969503</td>\n",
       "      <td>0.0</td>\n",
       "      <td>10.0</td>\n",
       "      <td>112</td>\n",
       "    </tr>\n",
       "    <tr>\n",
       "      <th>...</th>\n",
       "      <td>...</td>\n",
       "      <td>...</td>\n",
       "      <td>...</td>\n",
       "      <td>...</td>\n",
       "      <td>...</td>\n",
       "    </tr>\n",
       "    <tr>\n",
       "      <th>852</th>\n",
       "      <td>1.000000</td>\n",
       "      <td>2.477808</td>\n",
       "      <td>0.0</td>\n",
       "      <td>12.0</td>\n",
       "      <td>44</td>\n",
       "    </tr>\n",
       "    <tr>\n",
       "      <th>853</th>\n",
       "      <td>0.000000</td>\n",
       "      <td>0.000000</td>\n",
       "      <td>0.0</td>\n",
       "      <td>0.0</td>\n",
       "      <td>22</td>\n",
       "    </tr>\n",
       "    <tr>\n",
       "      <th>854</th>\n",
       "      <td>0.272727</td>\n",
       "      <td>1.335798</td>\n",
       "      <td>0.0</td>\n",
       "      <td>8.0</td>\n",
       "      <td>44</td>\n",
       "    </tr>\n",
       "    <tr>\n",
       "      <th>855</th>\n",
       "      <td>0.272727</td>\n",
       "      <td>0.882735</td>\n",
       "      <td>0.0</td>\n",
       "      <td>4.0</td>\n",
       "      <td>22</td>\n",
       "    </tr>\n",
       "    <tr>\n",
       "      <th>856</th>\n",
       "      <td>2.000000</td>\n",
       "      <td>NaN</td>\n",
       "      <td>2.0</td>\n",
       "      <td>2.0</td>\n",
       "      <td>1</td>\n",
       "    </tr>\n",
       "  </tbody>\n",
       "</table>\n",
       "<p>855 rows × 5 columns</p>\n",
       "</div>"
      ],
      "text/plain": [
       "          mean_points  sd_points  min_points  max_points  count_obs\n",
       "driverId                                                           \n",
       "1           14.182258   9.224098         0.0        50.0        310\n",
       "2            1.407609   2.372923         0.0        15.0        184\n",
       "3            7.740291   8.672456         0.0        25.0        206\n",
       "4            5.756983   6.330721         0.0        25.0        358\n",
       "5            0.937500   1.969503         0.0        10.0        112\n",
       "...               ...        ...         ...         ...        ...\n",
       "852          1.000000   2.477808         0.0        12.0         44\n",
       "853          0.000000   0.000000         0.0         0.0         22\n",
       "854          0.272727   1.335798         0.0         8.0         44\n",
       "855          0.272727   0.882735         0.0         4.0         22\n",
       "856          2.000000        NaN         2.0         2.0          1\n",
       "\n",
       "[855 rows x 5 columns]"
      ]
     },
<<<<<<< HEAD
     "execution_count": 16,
=======
     "execution_count": 56,
>>>>>>> upstream/main
     "metadata": {},
     "output_type": "execute_result"
    }
   ],
   "source": [
    "# In this cases drivers engage in multiple car races\n",
    "# We can compute the aggregate statistics for each specific driver across\n",
    "# multiple car races\n",
    "\n",
    "drivers_agg = (results.groupby(\"driverId\")\n",
    "                      .agg(mean_points = ('points','mean'),\n",
    "                           sd_points =   ('points','std'),\n",
    "                           min_points =  ('points','min'),\n",
    "                           max_points =  ('points','max'),\n",
    "                           count_obs   = ('points',len)))\n",
    "\n",
    "drivers_agg"
   ]
  },
  {
   "cell_type": "code",
<<<<<<< HEAD
   "execution_count": 17,
=======
   "execution_count": 57,
>>>>>>> upstream/main
   "metadata": {},
   "outputs": [
    {
     "data": {
      "text/plain": [
       "points    14.182258\n",
       "dtype: float64"
      ]
     },
<<<<<<< HEAD
     "execution_count": 17,
=======
     "execution_count": 57,
>>>>>>> upstream/main
     "metadata": {},
     "output_type": "execute_result"
    }
   ],
   "source": [
    "results.loc[results['driverId']==1, ['points']].mean()"
   ]
  },
  {
   "attachments": {},
   "cell_type": "markdown",
   "metadata": {},
   "source": [
    "<font size = \"5\" >\n",
    "Groupby + Aggregate statistics (multigroup)"
   ]
  },
  {
   "cell_type": "code",
<<<<<<< HEAD
   "execution_count": 18,
=======
   "execution_count": 58,
>>>>>>> upstream/main
   "metadata": {},
   "outputs": [
    {
     "data": {
      "application/vnd.microsoft.datawrangler.viewer.v0+json": {
       "columns": [
        {
         "name": "('raceId', 'constructorId')",
         "rawType": "object",
         "type": "unknown"
        },
        {
         "name": "mean_points",
         "rawType": "float64",
         "type": "float"
        },
        {
         "name": "sd_points",
         "rawType": "float64",
         "type": "float"
        },
        {
         "name": "min_points",
         "rawType": "float64",
         "type": "float"
        },
        {
         "name": "max_points",
         "rawType": "float64",
         "type": "float"
        },
        {
         "name": "count_obs",
         "rawType": "int64",
         "type": "integer"
        }
       ],
       "conversionMethod": "pd.DataFrame",
<<<<<<< HEAD
       "ref": "87d7b275-9340-474d-b3a6-0ef31c5ee11c",
=======
       "ref": "95e919cd-6743-45ff-aa8d-64994defdfd3",
>>>>>>> upstream/main
       "rows": [
        [
         "(1, 1)",
         "0.0",
         "0.0",
         "0.0",
         "0.0",
         "2"
        ],
        [
         "(1, 2)",
         "0.0",
         "0.0",
         "0.0",
         "0.0",
         "2"
        ],
        [
         "(1, 3)",
         "1.5",
         "2.1213203435596424",
         "0.0",
         "3.0",
         "2"
        ],
        [
         "(1, 4)",
         "2.0",
         "2.8284271247461903",
         "0.0",
         "4.0",
         "2"
        ],
        [
         "(1, 5)",
         "1.5",
         "0.7071067811865476",
         "1.0",
         "2.0",
         "2"
        ],
        [
         "(1, 6)",
         "0.0",
         "0.0",
         "0.0",
         "0.0",
         "2"
        ],
        [
         "(1, 7)",
         "5.5",
         "0.7071067811865476",
         "5.0",
         "6.0",
         "2"
        ],
        [
         "(1, 9)",
         "0.0",
         "0.0",
         "0.0",
         "0.0",
         "2"
        ],
        [
         "(1, 10)",
         "0.0",
         "0.0",
         "0.0",
         "0.0",
         "2"
        ],
        [
         "(1, 23)",
         "9.0",
         "1.4142135623730951",
         "8.0",
         "10.0",
         "2"
        ],
        [
         "(2, 1)",
         "0.5",
         "0.7071067811865476",
         "0.0",
         "1.0",
         "2"
        ],
        [
         "(2, 2)",
         "2.0",
         "2.8284271247461903",
         "0.0",
         "4.0",
         "2"
        ],
        [
         "(2, 3)",
         "0.25",
         "0.3535533905932738",
         "0.0",
         "0.5",
         "2"
        ],
        [
         "(2, 4)",
         "0.0",
         "0.0",
         "0.0",
         "0.0",
         "2"
        ],
        [
         "(2, 5)",
         "0.0",
         "0.0",
         "0.0",
         "0.0",
         "2"
        ],
        [
         "(2, 6)",
         "0.0",
         "0.0",
         "0.0",
         "0.0",
         "2"
        ],
        [
         "(2, 7)",
         "2.75",
         "0.3535533905932738",
         "2.5",
         "3.0",
         "2"
        ],
        [
         "(2, 9)",
         "0.75",
         "1.0606601717798212",
         "0.0",
         "1.5",
         "2"
        ],
        [
         "(2, 10)",
         "0.0",
         "0.0",
         "0.0",
         "0.0",
         "2"
        ],
        [
         "(2, 23)",
         "3.5",
         "2.1213203435596424",
         "2.0",
         "5.0",
         "2"
        ],
        [
         "(3, 1)",
         "3.5",
         "0.7071067811865476",
         "3.0",
         "4.0",
         "2"
        ],
        [
         "(3, 2)",
         "0.0",
         "0.0",
         "0.0",
         "0.0",
         "2"
        ],
        [
         "(3, 3)",
         "0.0",
         "0.0",
         "0.0",
         "0.0",
         "2"
        ],
        [
         "(3, 4)",
         "0.0",
         "0.0",
         "0.0",
         "0.0",
         "2"
        ],
        [
         "(3, 5)",
         "0.5",
         "0.7071067811865476",
         "0.0",
         "1.0",
         "2"
        ],
        [
         "(3, 6)",
         "0.0",
         "0.0",
         "0.0",
         "0.0",
         "2"
        ],
        [
         "(3, 7)",
         "1.0",
         "1.4142135623730951",
         "0.0",
         "2.0",
         "2"
        ],
        [
         "(3, 9)",
         "9.0",
         "1.4142135623730951",
         "8.0",
         "10.0",
         "2"
        ],
        [
         "(3, 10)",
         "0.0",
         "0.0",
         "0.0",
         "0.0",
         "2"
        ],
        [
         "(3, 23)",
         "5.5",
         "0.7071067811865476",
         "5.0",
         "6.0",
         "2"
        ],
        [
         "(4, 1)",
         "2.5",
         "3.5355339059327378",
         "0.0",
         "5.0",
         "2"
        ],
        [
         "(4, 2)",
         "0.0",
         "0.0",
         "0.0",
         "0.0",
         "2"
        ],
        [
         "(4, 3)",
         "0.0",
         "0.0",
         "0.0",
         "0.0",
         "2"
        ],
        [
         "(4, 4)",
         "0.5",
         "0.7071067811865476",
         "0.0",
         "1.0",
         "2"
        ],
        [
         "(4, 5)",
         "0.0",
         "0.0",
         "0.0",
         "0.0",
         "2"
        ],
        [
         "(4, 6)",
         "1.5",
         "2.1213203435596424",
         "0.0",
         "3.0",
         "2"
        ],
        [
         "(4, 7)",
         "4.0",
         "2.8284271247461903",
         "2.0",
         "6.0",
         "2"
        ],
        [
         "(4, 9)",
         "4.0",
         "5.656854249492381",
         "0.0",
         "8.0",
         "2"
        ],
        [
         "(4, 10)",
         "0.0",
         "0.0",
         "0.0",
         "0.0",
         "2"
        ],
        [
         "(4, 23)",
         "7.0",
         "4.242640687119285",
         "4.0",
         "10.0",
         "2"
        ],
        [
         "(5, 1)",
         "0.0",
         "0.0",
         "0.0",
         "0.0",
         "2"
        ],
        [
         "(5, 2)",
         "1.0",
         "1.4142135623730951",
         "0.0",
         "2.0",
         "2"
        ],
        [
         "(5, 3)",
         "0.5",
         "0.7071067811865476",
         "0.0",
         "1.0",
         "2"
        ],
        [
         "(5, 4)",
         "2.0",
         "2.8284271247461903",
         "0.0",
         "4.0",
         "2"
        ],
        [
         "(5, 5)",
         "0.0",
         "0.0",
         "0.0",
         "0.0",
         "2"
        ],
        [
         "(5, 6)",
         "1.5",
         "2.1213203435596424",
         "0.0",
         "3.0",
         "2"
        ],
        [
         "(5, 7)",
         "0.0",
         "0.0",
         "0.0",
         "0.0",
         "2"
        ],
        [
         "(5, 9)",
         "5.5",
         "0.7071067811865476",
         "5.0",
         "6.0",
         "2"
        ],
        [
         "(5, 10)",
         "0.0",
         "0.0",
         "0.0",
         "0.0",
         "2"
        ],
        [
         "(5, 23)",
         "9.0",
         "1.4142135623730951",
         "8.0",
         "10.0",
         "2"
        ]
       ],
       "shape": {
        "columns": 5,
        "rows": 12568
       }
      },
      "text/html": [
       "<div>\n",
       "<style scoped>\n",
       "    .dataframe tbody tr th:only-of-type {\n",
       "        vertical-align: middle;\n",
       "    }\n",
       "\n",
       "    .dataframe tbody tr th {\n",
       "        vertical-align: top;\n",
       "    }\n",
       "\n",
       "    .dataframe thead th {\n",
       "        text-align: right;\n",
       "    }\n",
       "</style>\n",
       "<table border=\"1\" class=\"dataframe\">\n",
       "  <thead>\n",
       "    <tr style=\"text-align: right;\">\n",
       "      <th></th>\n",
       "      <th></th>\n",
       "      <th>mean_points</th>\n",
       "      <th>sd_points</th>\n",
       "      <th>min_points</th>\n",
       "      <th>max_points</th>\n",
       "      <th>count_obs</th>\n",
       "    </tr>\n",
       "    <tr>\n",
       "      <th>raceId</th>\n",
       "      <th>constructorId</th>\n",
       "      <th></th>\n",
       "      <th></th>\n",
       "      <th></th>\n",
       "      <th></th>\n",
       "      <th></th>\n",
       "    </tr>\n",
       "  </thead>\n",
       "  <tbody>\n",
       "    <tr>\n",
       "      <th rowspan=\"5\" valign=\"top\">1</th>\n",
       "      <th>1</th>\n",
       "      <td>0.0</td>\n",
       "      <td>0.000000</td>\n",
       "      <td>0.0</td>\n",
       "      <td>0.0</td>\n",
       "      <td>2</td>\n",
       "    </tr>\n",
       "    <tr>\n",
       "      <th>2</th>\n",
       "      <td>0.0</td>\n",
       "      <td>0.000000</td>\n",
       "      <td>0.0</td>\n",
       "      <td>0.0</td>\n",
       "      <td>2</td>\n",
       "    </tr>\n",
       "    <tr>\n",
       "      <th>3</th>\n",
       "      <td>1.5</td>\n",
       "      <td>2.121320</td>\n",
       "      <td>0.0</td>\n",
       "      <td>3.0</td>\n",
       "      <td>2</td>\n",
       "    </tr>\n",
       "    <tr>\n",
       "      <th>4</th>\n",
       "      <td>2.0</td>\n",
       "      <td>2.828427</td>\n",
       "      <td>0.0</td>\n",
       "      <td>4.0</td>\n",
       "      <td>2</td>\n",
       "    </tr>\n",
       "    <tr>\n",
       "      <th>5</th>\n",
       "      <td>1.5</td>\n",
       "      <td>0.707107</td>\n",
       "      <td>1.0</td>\n",
       "      <td>2.0</td>\n",
       "      <td>2</td>\n",
       "    </tr>\n",
       "    <tr>\n",
       "      <th>...</th>\n",
       "      <th>...</th>\n",
       "      <td>...</td>\n",
       "      <td>...</td>\n",
       "      <td>...</td>\n",
       "      <td>...</td>\n",
       "      <td>...</td>\n",
       "    </tr>\n",
       "    <tr>\n",
       "      <th rowspan=\"5\" valign=\"top\">1096</th>\n",
       "      <th>117</th>\n",
       "      <td>2.5</td>\n",
       "      <td>2.121320</td>\n",
       "      <td>1.0</td>\n",
       "      <td>4.0</td>\n",
       "      <td>2</td>\n",
       "    </tr>\n",
       "    <tr>\n",
       "      <th>131</th>\n",
       "      <td>5.0</td>\n",
       "      <td>7.071068</td>\n",
       "      <td>0.0</td>\n",
       "      <td>10.0</td>\n",
       "      <td>2</td>\n",
       "    </tr>\n",
       "    <tr>\n",
       "      <th>210</th>\n",
       "      <td>0.0</td>\n",
       "      <td>0.000000</td>\n",
       "      <td>0.0</td>\n",
       "      <td>0.0</td>\n",
       "      <td>2</td>\n",
       "    </tr>\n",
       "    <tr>\n",
       "      <th>213</th>\n",
       "      <td>0.0</td>\n",
       "      <td>0.000000</td>\n",
       "      <td>0.0</td>\n",
       "      <td>0.0</td>\n",
       "      <td>2</td>\n",
       "    </tr>\n",
       "    <tr>\n",
       "      <th>214</th>\n",
       "      <td>3.0</td>\n",
       "      <td>4.242641</td>\n",
       "      <td>0.0</td>\n",
       "      <td>6.0</td>\n",
       "      <td>2</td>\n",
       "    </tr>\n",
       "  </tbody>\n",
       "</table>\n",
       "<p>12568 rows × 5 columns</p>\n",
       "</div>"
      ],
      "text/plain": [
       "                      mean_points  sd_points  min_points  max_points  \\\n",
       "raceId constructorId                                                   \n",
       "1      1                      0.0   0.000000         0.0         0.0   \n",
       "       2                      0.0   0.000000         0.0         0.0   \n",
       "       3                      1.5   2.121320         0.0         3.0   \n",
       "       4                      2.0   2.828427         0.0         4.0   \n",
       "       5                      1.5   0.707107         1.0         2.0   \n",
       "...                           ...        ...         ...         ...   \n",
       "1096   117                    2.5   2.121320         1.0         4.0   \n",
       "       131                    5.0   7.071068         0.0        10.0   \n",
       "       210                    0.0   0.000000         0.0         0.0   \n",
       "       213                    0.0   0.000000         0.0         0.0   \n",
       "       214                    3.0   4.242641         0.0         6.0   \n",
       "\n",
       "                      count_obs  \n",
       "raceId constructorId             \n",
       "1      1                      2  \n",
       "       2                      2  \n",
       "       3                      2  \n",
       "       4                      2  \n",
       "       5                      2  \n",
       "...                         ...  \n",
       "1096   117                    2  \n",
       "       131                    2  \n",
       "       210                    2  \n",
       "       213                    2  \n",
       "       214                    2  \n",
       "\n",
       "[12568 rows x 5 columns]"
      ]
     },
<<<<<<< HEAD
     "execution_count": 18,
=======
     "execution_count": 58,
>>>>>>> upstream/main
     "metadata": {},
     "output_type": "execute_result"
    }
   ],
   "source": [
    "# We can aggregate statistics from multiple columns by\n",
    "# entering a list of column names in \"groupby\"\n",
    "# In this case \"constructor\" in this case denotes the team \n",
    "# The following computes aggregate point stats for each (team, race) combination\n",
    "\n",
    "teamrace_agg = (results.groupby(  [\"raceId\",\"constructorId\"]    )\n",
    "                       .agg(mean_points = ('points','mean'),\n",
    "                            sd_points =   ('points','std'),\n",
    "                            min_points =  ('points','min'),\n",
    "                            max_points =  ('points','max'),\n",
    "                            count_obs   = ('points',len)))\n",
    "\n",
    "teamrace_agg"
   ]
  },
  {
   "attachments": {},
   "cell_type": "markdown",
   "metadata": {},
   "source": [
    "<font size = \"5\">\n",
    "\n",
    "Filtering + Grouping + Aggregating: <br>\n",
    "\n",
    "```python \n",
    ".query().groupby().agg()\n",
    "```\n",
    "\n",
    "- This sequential syntax is known as \"chaining\"\n"
   ]
  },
  {
   "cell_type": "code",
<<<<<<< HEAD
   "execution_count": 19,
=======
   "execution_count": 59,
>>>>>>> upstream/main
   "metadata": {},
   "outputs": [
    {
     "data": {
      "application/vnd.microsoft.datawrangler.viewer.v0+json": {
       "columns": [
        {
         "name": "('raceId', 'constructorId')",
         "rawType": "object",
         "type": "unknown"
        },
        {
         "name": "mean_points",
         "rawType": "float64",
         "type": "float"
        },
        {
         "name": "sd_points",
         "rawType": "float64",
         "type": "float"
        },
        {
         "name": "min_points",
         "rawType": "float64",
         "type": "float"
        },
        {
         "name": "max_points",
         "rawType": "float64",
         "type": "float"
        },
        {
         "name": "count_obs",
         "rawType": "int64",
         "type": "integer"
        }
       ],
       "conversionMethod": "pd.DataFrame",
<<<<<<< HEAD
       "ref": "fea2846e-8ba6-49ea-b775-182b3c92a83c",
=======
       "ref": "00173016-9ff7-4455-84e2-4324a5a0e3a7",
>>>>>>> upstream/main
       "rows": [
        [
         "(500, 1)",
         "0.0",
         "0.0",
         "0.0",
         "0.0",
         "2"
        ],
        [
         "(500, 3)",
         "1.0",
         "1.4142135623730951",
         "0.0",
         "2.0",
         "2"
        ],
        [
         "(500, 4)",
         "4.5",
         "6.363961030678928",
         "0.0",
         "9.0",
         "2"
        ],
        [
         "(500, 6)",
         "0.0",
         "0.0",
         "0.0",
         "0.0",
         "2"
        ],
        [
         "(500, 21)",
         "0.5",
         "0.7071067811865476",
         "0.0",
         "1.0",
         "2"
        ],
        [
         "(500, 25)",
         "0.0",
         "0.0",
         "0.0",
         "0.0",
         "2"
        ],
        [
         "(500, 27)",
         "5.0",
         "1.4142135623730951",
         "4.0",
         "6.0",
         "2"
        ],
        [
         "(500, 32)",
         "0.0",
         "0.0",
         "0.0",
         "0.0",
         "2"
        ],
        [
         "(500, 34)",
         "1.5",
         "2.1213203435596424",
         "0.0",
         "3.0",
         "2"
        ],
        [
         "(500, 45)",
         "0.0",
         null,
         "0.0",
         "0.0",
         "1"
        ],
        [
         "(500, 51)",
         "0.0",
         "0.0",
         "0.0",
         "0.0",
         "2"
        ],
        [
         "(500, 54)",
         "0.0",
         "0.0",
         "0.0",
         "0.0",
         "2"
        ],
        [
         "(500, 56)",
         "0.0",
         "0.0",
         "0.0",
         "0.0",
         "2"
        ],
        [
         "(500, 57)",
         "0.0",
         null,
         "0.0",
         "0.0",
         "1"
        ],
        [
         "(500, 58)",
         "0.0",
         "0.0",
         "0.0",
         "0.0",
         "2"
        ],
        [
         "(501, 1)",
         "1.5",
         "2.1213203435596424",
         "0.0",
         "3.0",
         "2"
        ],
        [
         "(501, 3)",
         "0.0",
         "0.0",
         "0.0",
         "0.0",
         "2"
        ],
        [
         "(501, 4)",
         "0.0",
         "0.0",
         "0.0",
         "0.0",
         "2"
        ],
        [
         "(501, 6)",
         "1.0",
         "1.4142135623730951",
         "0.0",
         "2.0",
         "2"
        ],
        [
         "(501, 21)",
         "3.0",
         "4.242640687119285",
         "0.0",
         "6.0",
         "2"
        ],
        [
         "(501, 25)",
         "0.0",
         "0.0",
         "0.0",
         "0.0",
         "2"
        ],
        [
         "(501, 27)",
         "0.5",
         "0.7071067811865476",
         "0.0",
         "1.0",
         "2"
        ],
        [
         "(501, 32)",
         "0.0",
         "0.0",
         "0.0",
         "0.0",
         "2"
        ],
        [
         "(501, 34)",
         "4.5",
         "6.363961030678928",
         "0.0",
         "9.0",
         "2"
        ],
        [
         "(501, 45)",
         "0.0",
         null,
         "0.0",
         "0.0",
         "1"
        ],
        [
         "(501, 51)",
         "0.0",
         "0.0",
         "0.0",
         "0.0",
         "2"
        ],
        [
         "(501, 54)",
         "0.0",
         null,
         "0.0",
         "0.0",
         "1"
        ],
        [
         "(501, 56)",
         "2.0",
         "2.8284271247461903",
         "0.0",
         "4.0",
         "2"
        ],
        [
         "(501, 57)",
         "0.0",
         null,
         "0.0",
         "0.0",
         "1"
        ],
        [
         "(501, 58)",
         "0.0",
         "0.0",
         "0.0",
         "0.0",
         "2"
        ],
        [
         "(502, 1)",
         "0.0",
         "0.0",
         "0.0",
         "0.0",
         "2"
        ],
        [
         "(502, 3)",
         "5.0",
         "1.4142135623730951",
         "4.0",
         "6.0",
         "2"
        ],
        [
         "(502, 4)",
         "1.5",
         "2.1213203435596424",
         "0.0",
         "3.0",
         "2"
        ],
        [
         "(502, 6)",
         "0.5",
         "0.7071067811865476",
         "0.0",
         "1.0",
         "2"
        ],
        [
         "(502, 21)",
         "0.0",
         "0.0",
         "0.0",
         "0.0",
         "2"
        ],
        [
         "(502, 25)",
         "1.0",
         "1.4142135623730951",
         "0.0",
         "2.0",
         "2"
        ],
        [
         "(502, 27)",
         "4.5",
         "6.363961030678928",
         "0.0",
         "9.0",
         "2"
        ],
        [
         "(502, 32)",
         "0.0",
         "0.0",
         "0.0",
         "0.0",
         "2"
        ],
        [
         "(502, 34)",
         "0.0",
         "0.0",
         "0.0",
         "0.0",
         "2"
        ],
        [
         "(502, 45)",
         "0.0",
         null,
         "0.0",
         "0.0",
         "1"
        ],
        [
         "(502, 51)",
         "0.0",
         "0.0",
         "0.0",
         "0.0",
         "2"
        ],
        [
         "(502, 54)",
         "0.0",
         null,
         "0.0",
         "0.0",
         "1"
        ],
        [
         "(502, 56)",
         "0.0",
         "0.0",
         "0.0",
         "0.0",
         "2"
        ],
        [
         "(502, 57)",
         "0.0",
         null,
         "0.0",
         "0.0",
         "1"
        ],
        [
         "(502, 58)",
         "0.0",
         "0.0",
         "0.0",
         "0.0",
         "2"
        ],
        [
         "(503, 1)",
         "0.0",
         "0.0",
         "0.0",
         "0.0",
         "2"
        ],
        [
         "(503, 3)",
         "4.5",
         "6.363961030678928",
         "0.0",
         "9.0",
         "2"
        ],
        [
         "(503, 4)",
         "0.0",
         "0.0",
         "0.0",
         "0.0",
         "2"
        ],
        [
         "(503, 6)",
         "1.0",
         "1.4142135623730951",
         "0.0",
         "2.0",
         "2"
        ],
        [
         "(503, 21)",
         "1.5",
         "2.1213203435596424",
         "0.0",
         "3.0",
         "2"
        ]
       ],
       "shape": {
        "columns": 5,
        "rows": 6055
       }
      },
      "text/html": [
       "<div>\n",
       "<style scoped>\n",
       "    .dataframe tbody tr th:only-of-type {\n",
       "        vertical-align: middle;\n",
       "    }\n",
       "\n",
       "    .dataframe tbody tr th {\n",
       "        vertical-align: top;\n",
       "    }\n",
       "\n",
       "    .dataframe thead th {\n",
       "        text-align: right;\n",
       "    }\n",
       "</style>\n",
       "<table border=\"1\" class=\"dataframe\">\n",
       "  <thead>\n",
       "    <tr style=\"text-align: right;\">\n",
       "      <th></th>\n",
       "      <th></th>\n",
       "      <th>mean_points</th>\n",
       "      <th>sd_points</th>\n",
       "      <th>min_points</th>\n",
       "      <th>max_points</th>\n",
       "      <th>count_obs</th>\n",
       "    </tr>\n",
       "    <tr>\n",
       "      <th>raceId</th>\n",
       "      <th>constructorId</th>\n",
       "      <th></th>\n",
       "      <th></th>\n",
       "      <th></th>\n",
       "      <th></th>\n",
       "      <th></th>\n",
       "    </tr>\n",
       "  </thead>\n",
       "  <tbody>\n",
       "    <tr>\n",
       "      <th rowspan=\"5\" valign=\"top\">500</th>\n",
       "      <th>1</th>\n",
       "      <td>0.0</td>\n",
       "      <td>0.000000</td>\n",
       "      <td>0.0</td>\n",
       "      <td>0.0</td>\n",
       "      <td>2</td>\n",
       "    </tr>\n",
       "    <tr>\n",
       "      <th>3</th>\n",
       "      <td>1.0</td>\n",
       "      <td>1.414214</td>\n",
       "      <td>0.0</td>\n",
       "      <td>2.0</td>\n",
       "      <td>2</td>\n",
       "    </tr>\n",
       "    <tr>\n",
       "      <th>4</th>\n",
       "      <td>4.5</td>\n",
       "      <td>6.363961</td>\n",
       "      <td>0.0</td>\n",
       "      <td>9.0</td>\n",
       "      <td>2</td>\n",
       "    </tr>\n",
       "    <tr>\n",
       "      <th>6</th>\n",
       "      <td>0.0</td>\n",
       "      <td>0.000000</td>\n",
       "      <td>0.0</td>\n",
       "      <td>0.0</td>\n",
       "      <td>2</td>\n",
       "    </tr>\n",
       "    <tr>\n",
       "      <th>21</th>\n",
       "      <td>0.5</td>\n",
       "      <td>0.707107</td>\n",
       "      <td>0.0</td>\n",
       "      <td>1.0</td>\n",
       "      <td>2</td>\n",
       "    </tr>\n",
       "    <tr>\n",
       "      <th>...</th>\n",
       "      <th>...</th>\n",
       "      <td>...</td>\n",
       "      <td>...</td>\n",
       "      <td>...</td>\n",
       "      <td>...</td>\n",
       "      <td>...</td>\n",
       "    </tr>\n",
       "    <tr>\n",
       "      <th rowspan=\"5\" valign=\"top\">1096</th>\n",
       "      <th>117</th>\n",
       "      <td>2.5</td>\n",
       "      <td>2.121320</td>\n",
       "      <td>1.0</td>\n",
       "      <td>4.0</td>\n",
       "      <td>2</td>\n",
       "    </tr>\n",
       "    <tr>\n",
       "      <th>131</th>\n",
       "      <td>5.0</td>\n",
       "      <td>7.071068</td>\n",
       "      <td>0.0</td>\n",
       "      <td>10.0</td>\n",
       "      <td>2</td>\n",
       "    </tr>\n",
       "    <tr>\n",
       "      <th>210</th>\n",
       "      <td>0.0</td>\n",
       "      <td>0.000000</td>\n",
       "      <td>0.0</td>\n",
       "      <td>0.0</td>\n",
       "      <td>2</td>\n",
       "    </tr>\n",
       "    <tr>\n",
       "      <th>213</th>\n",
       "      <td>0.0</td>\n",
       "      <td>0.000000</td>\n",
       "      <td>0.0</td>\n",
       "      <td>0.0</td>\n",
       "      <td>2</td>\n",
       "    </tr>\n",
       "    <tr>\n",
       "      <th>214</th>\n",
       "      <td>3.0</td>\n",
       "      <td>4.242641</td>\n",
       "      <td>0.0</td>\n",
       "      <td>6.0</td>\n",
       "      <td>2</td>\n",
       "    </tr>\n",
       "  </tbody>\n",
       "</table>\n",
       "<p>6055 rows × 5 columns</p>\n",
       "</div>"
      ],
      "text/plain": [
       "                      mean_points  sd_points  min_points  max_points  \\\n",
       "raceId constructorId                                                   \n",
       "500    1                      0.0   0.000000         0.0         0.0   \n",
       "       3                      1.0   1.414214         0.0         2.0   \n",
       "       4                      4.5   6.363961         0.0         9.0   \n",
       "       6                      0.0   0.000000         0.0         0.0   \n",
       "       21                     0.5   0.707107         0.0         1.0   \n",
       "...                           ...        ...         ...         ...   \n",
       "1096   117                    2.5   2.121320         1.0         4.0   \n",
       "       131                    5.0   7.071068         0.0        10.0   \n",
       "       210                    0.0   0.000000         0.0         0.0   \n",
       "       213                    0.0   0.000000         0.0         0.0   \n",
       "       214                    3.0   4.242641         0.0         6.0   \n",
       "\n",
       "                      count_obs  \n",
       "raceId constructorId             \n",
       "500    1                      2  \n",
       "       3                      2  \n",
       "       4                      2  \n",
       "       6                      2  \n",
       "       21                     2  \n",
       "...                         ...  \n",
       "1096   117                    2  \n",
       "       131                    2  \n",
       "       210                    2  \n",
       "       213                    2  \n",
       "       214                    2  \n",
       "\n",
       "[6055 rows x 5 columns]"
      ]
     },
<<<<<<< HEAD
     "execution_count": 19,
=======
     "execution_count": 59,
>>>>>>> upstream/main
     "metadata": {},
     "output_type": "execute_result"
    }
   ],
   "source": [
    "# The following gets a subset of the data using .query()\n",
    "# In this case we subset the data before computing aggregate statistics\n",
    "# Note: \"filtering\" is often the word used to obtain a subset\n",
    "\n",
    "teamrace_agg = (results.query(\"raceId >= 500\")\n",
    "                       .groupby([\"raceId\",\"constructorId\"])\n",
    "                        .agg(mean_points = ('points','mean'),\n",
    "                             sd_points =   ('points','std'),\n",
    "                             min_points =  ('points','min'),\n",
    "                             max_points =  ('points','max'),\n",
    "                             count_obs   = ('points',len)))\n",
    "teamrace_agg"
   ]
  },
  {
   "cell_type": "code",
<<<<<<< HEAD
   "execution_count": 20,
=======
   "execution_count": 60,
>>>>>>> upstream/main
   "metadata": {},
   "outputs": [
    {
     "data": {
      "application/vnd.microsoft.datawrangler.viewer.v0+json": {
       "columns": [
        {
         "name": "('raceId', 'constructorId')",
         "rawType": "object",
         "type": "unknown"
        },
        {
         "name": "mean_points",
         "rawType": "float64",
         "type": "float"
        }
       ],
       "conversionMethod": "pd.DataFrame",
<<<<<<< HEAD
       "ref": "60d43d5f-8484-4070-af08-96b3c6bd4c88",
=======
       "ref": "c88ea2d2-155c-4007-8e7e-08116f8fb71f",
>>>>>>> upstream/main
       "rows": [
        [
         "(500, 1)",
         "0.0"
        ],
        [
         "(500, 3)",
         "1.0"
        ],
        [
         "(500, 4)",
         "4.5"
        ],
        [
         "(500, 6)",
         "0.0"
        ],
        [
         "(500, 21)",
         "0.5"
        ],
        [
         "(500, 25)",
         "0.0"
        ],
        [
         "(500, 27)",
         "5.0"
        ],
        [
         "(500, 32)",
         "0.0"
        ],
        [
         "(500, 34)",
         "1.5"
        ],
        [
         "(500, 45)",
         "0.0"
        ],
        [
         "(500, 51)",
         "0.0"
        ],
        [
         "(500, 54)",
         "0.0"
        ],
        [
         "(500, 56)",
         "0.0"
        ],
        [
         "(500, 57)",
         "0.0"
        ],
        [
         "(500, 58)",
         "0.0"
        ],
        [
         "(501, 1)",
         "1.5"
        ],
        [
         "(501, 3)",
         "0.0"
        ],
        [
         "(501, 4)",
         "0.0"
        ],
        [
         "(501, 6)",
         "1.0"
        ],
        [
         "(501, 21)",
         "3.0"
        ],
        [
         "(501, 25)",
         "0.0"
        ],
        [
         "(501, 27)",
         "0.5"
        ],
        [
         "(501, 32)",
         "0.0"
        ],
        [
         "(501, 34)",
         "4.5"
        ],
        [
         "(501, 45)",
         "0.0"
        ],
        [
         "(501, 51)",
         "0.0"
        ],
        [
         "(501, 54)",
         "0.0"
        ],
        [
         "(501, 56)",
         "2.0"
        ],
        [
         "(501, 57)",
         "0.0"
        ],
        [
         "(501, 58)",
         "0.0"
        ],
        [
         "(502, 1)",
         "0.0"
        ],
        [
         "(502, 3)",
         "5.0"
        ],
        [
         "(502, 4)",
         "1.5"
        ],
        [
         "(502, 6)",
         "0.5"
        ],
        [
         "(502, 21)",
         "0.0"
        ],
        [
         "(502, 25)",
         "1.0"
        ],
        [
         "(502, 27)",
         "4.5"
        ],
        [
         "(502, 32)",
         "0.0"
        ],
        [
         "(502, 34)",
         "0.0"
        ],
        [
         "(502, 45)",
         "0.0"
        ],
        [
         "(502, 51)",
         "0.0"
        ],
        [
         "(502, 54)",
         "0.0"
        ],
        [
         "(502, 56)",
         "0.0"
        ],
        [
         "(502, 57)",
         "0.0"
        ],
        [
         "(502, 58)",
         "0.0"
        ],
        [
         "(503, 1)",
         "0.0"
        ],
        [
         "(503, 3)",
         "4.5"
        ],
        [
         "(503, 4)",
         "0.0"
        ],
        [
         "(503, 6)",
         "1.0"
        ],
        [
         "(503, 21)",
         "1.5"
        ]
       ],
       "shape": {
        "columns": 1,
        "rows": 6055
       }
      },
      "text/html": [
       "<div>\n",
       "<style scoped>\n",
       "    .dataframe tbody tr th:only-of-type {\n",
       "        vertical-align: middle;\n",
       "    }\n",
       "\n",
       "    .dataframe tbody tr th {\n",
       "        vertical-align: top;\n",
       "    }\n",
       "\n",
       "    .dataframe thead th {\n",
       "        text-align: right;\n",
       "    }\n",
       "</style>\n",
       "<table border=\"1\" class=\"dataframe\">\n",
       "  <thead>\n",
       "    <tr style=\"text-align: right;\">\n",
       "      <th></th>\n",
       "      <th></th>\n",
       "      <th>mean_points</th>\n",
       "    </tr>\n",
       "    <tr>\n",
       "      <th>raceId</th>\n",
       "      <th>constructorId</th>\n",
       "      <th></th>\n",
       "    </tr>\n",
       "  </thead>\n",
       "  <tbody>\n",
       "    <tr>\n",
       "      <th rowspan=\"5\" valign=\"top\">500</th>\n",
       "      <th>1</th>\n",
       "      <td>0.0</td>\n",
       "    </tr>\n",
       "    <tr>\n",
       "      <th>3</th>\n",
       "      <td>1.0</td>\n",
       "    </tr>\n",
       "    <tr>\n",
       "      <th>4</th>\n",
       "      <td>4.5</td>\n",
       "    </tr>\n",
       "    <tr>\n",
       "      <th>6</th>\n",
       "      <td>0.0</td>\n",
       "    </tr>\n",
       "    <tr>\n",
       "      <th>21</th>\n",
       "      <td>0.5</td>\n",
       "    </tr>\n",
       "    <tr>\n",
       "      <th>...</th>\n",
       "      <th>...</th>\n",
       "      <td>...</td>\n",
       "    </tr>\n",
       "    <tr>\n",
       "      <th rowspan=\"5\" valign=\"top\">1096</th>\n",
       "      <th>117</th>\n",
       "      <td>2.5</td>\n",
       "    </tr>\n",
       "    <tr>\n",
       "      <th>131</th>\n",
       "      <td>5.0</td>\n",
       "    </tr>\n",
       "    <tr>\n",
       "      <th>210</th>\n",
       "      <td>0.0</td>\n",
       "    </tr>\n",
       "    <tr>\n",
       "      <th>213</th>\n",
       "      <td>0.0</td>\n",
       "    </tr>\n",
       "    <tr>\n",
       "      <th>214</th>\n",
       "      <td>3.0</td>\n",
       "    </tr>\n",
       "  </tbody>\n",
       "</table>\n",
       "<p>6055 rows × 1 columns</p>\n",
       "</div>"
      ],
      "text/plain": [
       "                      mean_points\n",
       "raceId constructorId             \n",
       "500    1                      0.0\n",
       "       3                      1.0\n",
       "       4                      4.5\n",
       "       6                      0.0\n",
       "       21                     0.5\n",
       "...                           ...\n",
       "1096   117                    2.5\n",
       "       131                    5.0\n",
       "       210                    0.0\n",
       "       213                    0.0\n",
       "       214                    3.0\n",
       "\n",
       "[6055 rows x 1 columns]"
      ]
     },
<<<<<<< HEAD
     "execution_count": 20,
=======
     "execution_count": 60,
>>>>>>> upstream/main
     "metadata": {},
     "output_type": "execute_result"
    }
   ],
   "source": [
    "(results.query(\"raceId >= 500\").groupby([\"raceId\",\"constructorId\"]).\n",
    " agg(mean_points = ('points','mean')))"
   ]
  },
  {
   "attachments": {},
   "cell_type": "markdown",
   "metadata": {},
   "source": [
    "<font size = \"5\">\n",
    "\n",
    "Try it yourself!\n",
    "\n",
    "- Create a new dataset by chaining  <br>\n",
    "groups by \"raceId\" then computes the <br>\n",
    "aggregate statistics: \"points\" average <br> and \"laps\" average\n"
   ]
  },
  {
   "cell_type": "code",
<<<<<<< HEAD
   "execution_count": 21,
=======
   "execution_count": 61,
>>>>>>> upstream/main
   "metadata": {},
   "outputs": [],
   "source": [
    "# Write your own code\n",
    "\n",
    "example = (results.groupby(\"raceId\")\n",
    "                        .agg(mean_laps = ('laps','mean'),\n",
    "                             mean_points = ('points','mean')))\n",
    "# example\n"
   ]
  },
  {
   "attachments": {},
   "cell_type": "markdown",
   "metadata": {},
   "source": [
    "<font size = \"5\">\n",
    "\n",
    "Try it yourself!\n",
    "\n",
    "- Create a new dataset by chaining <br>\n",
    "groups by \"constructorId\" (the team) then <br> \n",
    "computes the average number of \"points\"\n",
    "- Add a chain \".sort_values(...,ascending = False)\" <br>\n",
    "to sort by team points in desceding order\n"
   ]
  },
  {
   "cell_type": "code",
<<<<<<< HEAD
   "execution_count": 22,
=======
   "execution_count": 62,
>>>>>>> upstream/main
   "metadata": {},
   "outputs": [
    {
     "data": {
      "application/vnd.microsoft.datawrangler.viewer.v0+json": {
       "columns": [
        {
         "name": "constructorId",
         "rawType": "int64",
         "type": "integer"
        },
        {
         "name": "mean_points",
         "rawType": "float64",
         "type": "float"
        }
       ],
       "conversionMethod": "pd.DataFrame",
<<<<<<< HEAD
       "ref": "5315ee14-c778-49ef-9671-6be46d75f469",
=======
       "ref": "17a0ac36-811d-400b-9bfe-a2189f23dda2",
>>>>>>> upstream/main
       "rows": [
        [
         "131",
         "12.363642857142858"
        ],
        [
         "9",
         "9.117816091954023"
        ],
        [
         "23",
         "5.0588235294117645"
        ],
        [
         "208",
         "4.584415584415584"
        ],
        [
         "6",
         "4.317967618236046"
        ],
        [
         "211",
         "3.723684210526316"
        ],
        [
         "214",
         "3.6931818181818183"
        ],
        [
         "1",
         "3.3574549426542872"
        ],
        [
         "196",
         "3.25"
        ],
        [
         "10",
         "2.589622641509434"
        ],
        [
         "108",
         "2.588235294117647"
        ],
        [
         "213",
         "2.3278688524590163"
        ],
        [
         "191",
         "2.272727272727273"
        ],
        [
         "3",
         "2.270031545741325"
        ],
        [
         "4",
         "2.2579415501905973"
        ],
        [
         "2",
         "2.2"
        ],
        [
         "22",
         "1.6567307692307693"
        ],
        [
         "187",
         "1.6436781609195403"
        ],
        [
         "107",
         "1.6363636363636365"
        ],
        [
         "180",
         "1.6328125"
        ],
        [
         "118",
         "1.5211267605633803"
        ],
        [
         "149",
         "1.5"
        ],
        [
         "117",
         "1.3333333333333333"
        ],
        [
         "170",
         "1.2555970149253732"
        ],
        [
         "150",
         "1.25"
        ],
        [
         "172",
         "1.206008583690987"
        ],
        [
         "182",
         "1.1724137931034482"
        ],
        [
         "32",
         "1.142365097588978"
        ],
        [
         "11",
         "1.0263157894736843"
        ],
        [
         "109",
         "1.0"
        ],
        [
         "59",
         "1.0"
        ],
        [
         "7",
         "0.9946428571428572"
        ],
        [
         "16",
         "0.961864406779661"
        ],
        [
         "66",
         "0.9564056939501779"
        ],
        [
         "34",
         "0.9531722054380665"
        ],
        [
         "195",
         "0.9523809523809523"
        ],
        [
         "5",
         "0.9328358208955224"
        ],
        [
         "200",
         "0.8604651162790697"
        ],
        [
         "51",
         "0.8476658476658476"
        ],
        [
         "183",
         "0.8387096774193549"
        ],
        [
         "132",
         "0.8181818181818182"
        ],
        [
         "210",
         "0.8090277777777778"
        ],
        [
         "25",
         "0.8070374574347332"
        ],
        [
         "82",
         "0.7605633802816901"
        ],
        [
         "148",
         "0.75"
        ],
        [
         "105",
         "0.7182110091743119"
        ],
        [
         "15",
         "0.70595690747782"
        ],
        [
         "110",
         "0.6666666666666666"
        ],
        [
         "27",
         "0.6350245499181669"
        ],
        [
         "167",
         "0.6194029850746269"
        ]
       ],
       "shape": {
        "columns": 1,
        "rows": 210
       }
      },
      "text/html": [
       "<div>\n",
       "<style scoped>\n",
       "    .dataframe tbody tr th:only-of-type {\n",
       "        vertical-align: middle;\n",
       "    }\n",
       "\n",
       "    .dataframe tbody tr th {\n",
       "        vertical-align: top;\n",
       "    }\n",
       "\n",
       "    .dataframe thead th {\n",
       "        text-align: right;\n",
       "    }\n",
       "</style>\n",
       "<table border=\"1\" class=\"dataframe\">\n",
       "  <thead>\n",
       "    <tr style=\"text-align: right;\">\n",
       "      <th></th>\n",
       "      <th>mean_points</th>\n",
       "    </tr>\n",
       "    <tr>\n",
       "      <th>constructorId</th>\n",
       "      <th></th>\n",
       "    </tr>\n",
       "  </thead>\n",
       "  <tbody>\n",
       "    <tr>\n",
       "      <th>131</th>\n",
       "      <td>12.363643</td>\n",
       "    </tr>\n",
       "    <tr>\n",
       "      <th>9</th>\n",
       "      <td>9.117816</td>\n",
       "    </tr>\n",
       "    <tr>\n",
       "      <th>23</th>\n",
       "      <td>5.058824</td>\n",
       "    </tr>\n",
       "    <tr>\n",
       "      <th>208</th>\n",
       "      <td>4.584416</td>\n",
       "    </tr>\n",
       "    <tr>\n",
       "      <th>6</th>\n",
       "      <td>4.317968</td>\n",
       "    </tr>\n",
       "    <tr>\n",
       "      <th>...</th>\n",
       "      <td>...</td>\n",
       "    </tr>\n",
       "    <tr>\n",
       "      <th>76</th>\n",
       "      <td>0.000000</td>\n",
       "    </tr>\n",
       "    <tr>\n",
       "      <th>77</th>\n",
       "      <td>0.000000</td>\n",
       "    </tr>\n",
       "    <tr>\n",
       "      <th>78</th>\n",
       "      <td>0.000000</td>\n",
       "    </tr>\n",
       "    <tr>\n",
       "      <th>130</th>\n",
       "      <td>0.000000</td>\n",
       "    </tr>\n",
       "    <tr>\n",
       "      <th>112</th>\n",
       "      <td>0.000000</td>\n",
       "    </tr>\n",
       "  </tbody>\n",
       "</table>\n",
       "<p>210 rows × 1 columns</p>\n",
       "</div>"
      ],
      "text/plain": [
       "               mean_points\n",
       "constructorId             \n",
       "131              12.363643\n",
       "9                 9.117816\n",
       "23                5.058824\n",
       "208               4.584416\n",
       "6                 4.317968\n",
       "...                    ...\n",
       "76                0.000000\n",
       "77                0.000000\n",
       "78                0.000000\n",
       "130               0.000000\n",
       "112               0.000000\n",
       "\n",
       "[210 rows x 1 columns]"
      ]
     },
<<<<<<< HEAD
     "execution_count": 22,
=======
     "execution_count": 62,
>>>>>>> upstream/main
     "metadata": {},
     "output_type": "execute_result"
    }
   ],
   "source": [
    "# Write your own code\n",
    "\n",
    "sorted_data = (results.groupby(\"constructorId\")\n",
    "                        .agg(mean_points = ('points','mean'))\n",
    "                        .sort_values(\"mean_points\",ascending = False))\n",
    "\n",
    "sorted_data\n",
    "\n"
   ]
  },
  {
   "attachments": {},
   "cell_type": "markdown",
   "metadata": {},
   "source": [
    "# <span style=\"color:darkblue\"> III. Relative statistics within group </span>\n",
    "\n"
   ]
  },
  {
   "attachments": {},
   "cell_type": "markdown",
   "metadata": {},
   "source": [
    "<font size = \"5\">\n",
    "\n",
    "Merging\n",
    "\n",
    "<img src=\"figures/merge_stats.png\" alt=\"drawing\" width=\"600\"/>\n"
   ]
  },
  {
   "cell_type": "code",
<<<<<<< HEAD
   "execution_count": 23,
=======
   "execution_count": 63,
>>>>>>> upstream/main
   "metadata": {},
   "outputs": [
    {
     "data": {
      "application/vnd.microsoft.datawrangler.viewer.v0+json": {
       "columns": [
        {
         "name": "driverId",
         "rawType": "int64",
         "type": "integer"
        },
        {
         "name": "mean_points",
         "rawType": "float64",
         "type": "float"
        },
        {
         "name": "sd_points",
         "rawType": "float64",
         "type": "float"
        },
        {
         "name": "min_points",
         "rawType": "float64",
         "type": "float"
        },
        {
         "name": "max_points",
         "rawType": "float64",
         "type": "float"
        },
        {
         "name": "count_obs",
         "rawType": "int64",
         "type": "integer"
        }
       ],
       "conversionMethod": "pd.DataFrame",
<<<<<<< HEAD
       "ref": "c7cd9880-a809-4022-a708-6eba0e3f1f07",
=======
       "ref": "8040e893-4516-4068-abe5-9b0e5a1f3cc9",
>>>>>>> upstream/main
       "rows": [
        [
         "1",
         "14.182258064516128",
         "9.224098243847557",
         "0.0",
         "50.0",
         "310"
        ],
        [
         "2",
         "1.4076086956521738",
         "2.372922557423763",
         "0.0",
         "15.0",
         "184"
        ],
        [
         "3",
         "7.740291262135922",
         "8.672455860162094",
         "0.0",
         "25.0",
         "206"
        ],
        [
         "4",
         "5.756983240223463",
         "6.330721312003123",
         "0.0",
         "25.0",
         "358"
        ],
        [
         "5",
         "0.9375",
         "1.9695028411864353",
         "0.0",
         "10.0",
         "112"
        ],
        [
         "6",
         "0.25",
         "0.6917885721601857",
         "0.0",
         "3.0",
         "36"
        ],
        [
         "7",
         "0.2222222222222222",
         "0.5773502691896258",
         "0.0",
         "2.0",
         "27"
        ],
        [
         "8",
         "5.3210227272727275",
         "5.814003242937152",
         "0.0",
         "25.0",
         "352"
        ],
        [
         "9",
         "2.7676767676767677",
         "3.97139846552896",
         "0.0",
         "18.0",
         "99"
        ],
        [
         "10",
         "0.5368421052631579",
         "1.5423836644690754",
         "0.0",
         "8.0",
         "95"
        ],
        [
         "11",
         "0.4835164835164835",
         "1.2854972005037786",
         "0.0",
         "6.0",
         "91"
        ],
        [
         "12",
         "0.6785714285714286",
         "1.826828286211265",
         "0.0",
         "8.0",
         "28"
        ],
        [
         "13",
         "4.306273062730627",
         "5.0755694209992654",
         "0.0",
         "36.0",
         "271"
        ],
        [
         "14",
         "2.165991902834008",
         "2.8486156472267776",
         "0.0",
         "10.0",
         "247"
        ],
        [
         "15",
         "0.962890625",
         "1.8712452191904558",
         "0.0",
         "10.0",
         "256"
        ],
        [
         "16",
         "0.96875",
         "2.3034978537443274",
         "0.0",
         "10.0",
         "128"
        ],
        [
         "17",
         "4.8271889400921655",
         "6.798614232862791",
         "0.0",
         "25.0",
         "217"
        ],
        [
         "18",
         "3.9967637540453076",
         "5.949734459793864",
         "0.0",
         "25.0",
         "309"
        ],
        [
         "19",
         "0.0",
         "0.0",
         "0.0",
         "0.0",
         "24"
        ],
        [
         "20",
         "10.326666666666666",
         "8.948381641516505",
         "0.0",
         "25.0",
         "300"
        ],
        [
         "21",
         "1.1904761904761905",
         "2.140315953534053",
         "0.0",
         "10.0",
         "231"
        ],
        [
         "22",
         "2.01840490797546",
         "2.9172640346483485",
         "0.0",
         "12.0",
         "326"
        ],
        [
         "23",
         "1.8277777777777777",
         "2.4627516870624846",
         "0.0",
         "10.0",
         "180"
        ],
        [
         "24",
         "0.32098765432098764",
         "1.2023639267483364",
         "0.0",
         "8.0",
         "81"
        ],
        [
         "25",
         "0.6521739130434783",
         "1.4635380876544843",
         "0.0",
         "6.0",
         "69"
        ],
        [
         "26",
         "0.0",
         "0.0",
         "0.0",
         "0.0",
         "28"
        ],
        [
         "27",
         "0.08695652173913043",
         "0.5897678246195884",
         "0.0",
         "4.0",
         "46"
        ],
        [
         "28",
         "0.0",
         null,
         "0.0",
         "0.0",
         "1"
        ],
        [
         "29",
         "0.0",
         "0.0",
         "0.0",
         "0.0",
         "21"
        ],
        [
         "30",
         "5.084415584415584",
         "4.183029618697003",
         "0.0",
         "15.0",
         "308"
        ],
        [
         "31",
         "3.231578947368421",
         "3.311657782385913",
         "0.0",
         "10.0",
         "95"
        ],
        [
         "32",
         "0.27450980392156865",
         "0.7766191182954232",
         "0.0",
         "4.0",
         "51"
        ],
        [
         "33",
         "0.1891891891891892",
         "0.9954853042566681",
         "0.0",
         "6.0",
         "37"
        ],
        [
         "34",
         "0.0",
         "0.0",
         "0.0",
         "0.0",
         "4"
        ],
        [
         "35",
         "1.4242424242424243",
         "2.7456207151760497",
         "0.0",
         "10.0",
         "165"
        ],
        [
         "36",
         "0.0",
         "0.0",
         "0.0",
         "0.0",
         "7"
        ],
        [
         "37",
         "0.32710280373831774",
         "1.1877972393403335",
         "0.0",
         "8.0",
         "107"
        ],
        [
         "38",
         "0.0",
         "0.0",
         "0.0",
         "0.0",
         "11"
        ],
        [
         "39",
         "0.10416666666666667",
         "0.7216878364870323",
         "0.0",
         "5.0",
         "48"
        ],
        [
         "40",
         "0.2727272727272727",
         "0.9045340337332909",
         "0.0",
         "3.0",
         "11"
        ],
        [
         "41",
         "0.07894736842105263",
         "0.2732763127330939",
         "0.0",
         "1.0",
         "38"
        ],
        [
         "42",
         "0.4",
         "0.8207826816681233",
         "0.0",
         "2.0",
         "20"
        ],
        [
         "43",
         "0.4642857142857143",
         "1.0357370915204895",
         "0.0",
         "3.0",
         "28"
        ],
        [
         "44",
         "0.4810126582278481",
         "1.3624702134877282",
         "0.0",
         "10.0",
         "158"
        ],
        [
         "45",
         "0.0",
         "0.0",
         "0.0",
         "0.0",
         "14"
        ],
        [
         "46",
         "0.0",
         "0.0",
         "0.0",
         "0.0",
         "18"
        ],
        [
         "47",
         "0.05",
         "0.22360679774997894",
         "0.0",
         "1.0",
         "20"
        ],
        [
         "48",
         "0.1388888888888889",
         "0.6825489109748956",
         "0.0",
         "4.0",
         "36"
        ],
        [
         "49",
         "1.0943396226415094",
         "1.9706467897627895",
         "0.0",
         "10.0",
         "159"
        ],
        [
         "50",
         "0.1588785046728972",
         "0.675019674210558",
         "0.0",
         "4.0",
         "107"
        ]
       ],
       "shape": {
        "columns": 5,
        "rows": 855
       }
      },
      "text/html": [
       "<div>\n",
       "<style scoped>\n",
       "    .dataframe tbody tr th:only-of-type {\n",
       "        vertical-align: middle;\n",
       "    }\n",
       "\n",
       "    .dataframe tbody tr th {\n",
       "        vertical-align: top;\n",
       "    }\n",
       "\n",
       "    .dataframe thead th {\n",
       "        text-align: right;\n",
       "    }\n",
       "</style>\n",
       "<table border=\"1\" class=\"dataframe\">\n",
       "  <thead>\n",
       "    <tr style=\"text-align: right;\">\n",
       "      <th></th>\n",
       "      <th>mean_points</th>\n",
       "      <th>sd_points</th>\n",
       "      <th>min_points</th>\n",
       "      <th>max_points</th>\n",
       "      <th>count_obs</th>\n",
       "    </tr>\n",
       "    <tr>\n",
       "      <th>driverId</th>\n",
       "      <th></th>\n",
       "      <th></th>\n",
       "      <th></th>\n",
       "      <th></th>\n",
       "      <th></th>\n",
       "    </tr>\n",
       "  </thead>\n",
       "  <tbody>\n",
       "    <tr>\n",
       "      <th>1</th>\n",
       "      <td>14.182258</td>\n",
       "      <td>9.224098</td>\n",
       "      <td>0.0</td>\n",
       "      <td>50.0</td>\n",
       "      <td>310</td>\n",
       "    </tr>\n",
       "    <tr>\n",
       "      <th>2</th>\n",
       "      <td>1.407609</td>\n",
       "      <td>2.372923</td>\n",
       "      <td>0.0</td>\n",
       "      <td>15.0</td>\n",
       "      <td>184</td>\n",
       "    </tr>\n",
       "    <tr>\n",
       "      <th>3</th>\n",
       "      <td>7.740291</td>\n",
       "      <td>8.672456</td>\n",
       "      <td>0.0</td>\n",
       "      <td>25.0</td>\n",
       "      <td>206</td>\n",
       "    </tr>\n",
       "    <tr>\n",
       "      <th>4</th>\n",
       "      <td>5.756983</td>\n",
       "      <td>6.330721</td>\n",
       "      <td>0.0</td>\n",
       "      <td>25.0</td>\n",
       "      <td>358</td>\n",
       "    </tr>\n",
       "    <tr>\n",
       "      <th>5</th>\n",
       "      <td>0.937500</td>\n",
       "      <td>1.969503</td>\n",
       "      <td>0.0</td>\n",
       "      <td>10.0</td>\n",
       "      <td>112</td>\n",
       "    </tr>\n",
       "    <tr>\n",
       "      <th>...</th>\n",
       "      <td>...</td>\n",
       "      <td>...</td>\n",
       "      <td>...</td>\n",
       "      <td>...</td>\n",
       "      <td>...</td>\n",
       "    </tr>\n",
       "    <tr>\n",
       "      <th>852</th>\n",
       "      <td>1.000000</td>\n",
       "      <td>2.477808</td>\n",
       "      <td>0.0</td>\n",
       "      <td>12.0</td>\n",
       "      <td>44</td>\n",
       "    </tr>\n",
       "    <tr>\n",
       "      <th>853</th>\n",
       "      <td>0.000000</td>\n",
       "      <td>0.000000</td>\n",
       "      <td>0.0</td>\n",
       "      <td>0.0</td>\n",
       "      <td>22</td>\n",
       "    </tr>\n",
       "    <tr>\n",
       "      <th>854</th>\n",
       "      <td>0.272727</td>\n",
       "      <td>1.335798</td>\n",
       "      <td>0.0</td>\n",
       "      <td>8.0</td>\n",
       "      <td>44</td>\n",
       "    </tr>\n",
       "    <tr>\n",
       "      <th>855</th>\n",
       "      <td>0.272727</td>\n",
       "      <td>0.882735</td>\n",
       "      <td>0.0</td>\n",
       "      <td>4.0</td>\n",
       "      <td>22</td>\n",
       "    </tr>\n",
       "    <tr>\n",
       "      <th>856</th>\n",
       "      <td>2.000000</td>\n",
       "      <td>NaN</td>\n",
       "      <td>2.0</td>\n",
       "      <td>2.0</td>\n",
       "      <td>1</td>\n",
       "    </tr>\n",
       "  </tbody>\n",
       "</table>\n",
       "<p>855 rows × 5 columns</p>\n",
       "</div>"
      ],
      "text/plain": [
       "          mean_points  sd_points  min_points  max_points  count_obs\n",
       "driverId                                                           \n",
       "1           14.182258   9.224098         0.0        50.0        310\n",
       "2            1.407609   2.372923         0.0        15.0        184\n",
       "3            7.740291   8.672456         0.0        25.0        206\n",
       "4            5.756983   6.330721         0.0        25.0        358\n",
       "5            0.937500   1.969503         0.0        10.0        112\n",
       "...               ...        ...         ...         ...        ...\n",
       "852          1.000000   2.477808         0.0        12.0         44\n",
       "853          0.000000   0.000000         0.0         0.0         22\n",
       "854          0.272727   1.335798         0.0         8.0         44\n",
       "855          0.272727   0.882735         0.0         4.0         22\n",
       "856          2.000000        NaN         2.0         2.0          1\n",
       "\n",
       "[855 rows x 5 columns]"
      ]
     },
<<<<<<< HEAD
     "execution_count": 23,
=======
     "execution_count": 63,
>>>>>>> upstream/main
     "metadata": {},
     "output_type": "execute_result"
    }
   ],
   "source": [
    "drivers_agg"
   ]
  },
  {
   "cell_type": "code",
<<<<<<< HEAD
   "execution_count": 24,
=======
   "execution_count": 64,
>>>>>>> upstream/main
   "metadata": {},
   "outputs": [
    {
     "data": {
      "application/vnd.microsoft.datawrangler.viewer.v0+json": {
       "columns": [
        {
         "name": "index",
         "rawType": "int64",
         "type": "integer"
        },
        {
         "name": "resultId",
         "rawType": "int64",
         "type": "integer"
        },
        {
         "name": "raceId",
         "rawType": "int64",
         "type": "integer"
        },
        {
         "name": "driverId",
         "rawType": "int64",
         "type": "integer"
        },
        {
         "name": "constructorId",
         "rawType": "int64",
         "type": "integer"
        },
        {
         "name": "number",
         "rawType": "object",
         "type": "string"
        },
        {
         "name": "grid",
         "rawType": "int64",
         "type": "integer"
        },
        {
         "name": "position",
         "rawType": "object",
         "type": "string"
        },
        {
         "name": "positionText",
         "rawType": "object",
         "type": "string"
        },
        {
         "name": "positionOrder",
         "rawType": "int64",
         "type": "integer"
        },
        {
         "name": "points",
         "rawType": "float64",
         "type": "float"
        },
        {
         "name": "laps",
         "rawType": "int64",
         "type": "integer"
        },
        {
         "name": "time",
         "rawType": "object",
         "type": "string"
        },
        {
         "name": "milliseconds",
         "rawType": "object",
         "type": "string"
        },
        {
         "name": "fastestLap",
         "rawType": "object",
         "type": "string"
        },
        {
         "name": "rank",
         "rawType": "object",
         "type": "string"
        },
        {
         "name": "fastestLapTime",
         "rawType": "object",
         "type": "string"
        },
        {
         "name": "fastestLapSpeed",
         "rawType": "object",
         "type": "string"
        },
        {
         "name": "statusId",
         "rawType": "int64",
         "type": "integer"
        }
       ],
       "conversionMethod": "pd.DataFrame",
<<<<<<< HEAD
       "ref": "700cbb52-5012-4a08-a6ca-722950a85df7",
=======
       "ref": "7a8a2083-de12-41ca-8820-265c26170328",
>>>>>>> upstream/main
       "rows": [
        [
         "0",
         "1",
         "18",
         "1",
         "1",
         "22",
         "1",
         "1",
         "1",
         "1",
         "10.0",
         "58",
         "1:34:50.616",
         "5690616",
         "39",
         "2",
         "1:27.452",
         "218.300",
         "1"
        ],
        [
         "1",
         "2",
         "18",
         "2",
         "2",
         "3",
         "5",
         "2",
         "2",
         "2",
         "8.0",
         "58",
         "+5.478",
         "5696094",
         "41",
         "3",
         "1:27.739",
         "217.586",
         "1"
        ],
        [
         "2",
         "3",
         "18",
         "3",
         "3",
         "7",
         "7",
         "3",
         "3",
         "3",
         "6.0",
         "58",
         "+8.163",
         "5698779",
         "41",
         "5",
         "1:28.090",
         "216.719",
         "1"
        ],
        [
         "3",
         "4",
         "18",
         "4",
         "4",
         "5",
         "11",
         "4",
         "4",
         "4",
         "5.0",
         "58",
         "+17.181",
         "5707797",
         "58",
         "7",
         "1:28.603",
         "215.464",
         "1"
        ],
        [
         "4",
         "5",
         "18",
         "5",
         "1",
         "23",
         "3",
         "5",
         "5",
         "5",
         "4.0",
         "58",
         "+18.014",
         "5708630",
         "43",
         "1",
         "1:27.418",
         "218.385",
         "1"
        ],
        [
         "5",
         "6",
         "18",
         "6",
         "3",
         "8",
         "13",
         "6",
         "6",
         "6",
         "3.0",
         "57",
         "\\N",
         "\\N",
         "50",
         "14",
         "1:29.639",
         "212.974",
         "11"
        ],
        [
         "6",
         "7",
         "18",
         "7",
         "5",
         "14",
         "17",
         "7",
         "7",
         "7",
         "2.0",
         "55",
         "\\N",
         "\\N",
         "22",
         "12",
         "1:29.534",
         "213.224",
         "5"
        ],
        [
         "7",
         "8",
         "18",
         "8",
         "6",
         "1",
         "15",
         "8",
         "8",
         "8",
         "1.0",
         "53",
         "\\N",
         "\\N",
         "20",
         "4",
         "1:27.903",
         "217.180",
         "5"
        ],
        [
         "8",
         "9",
         "18",
         "9",
         "2",
         "4",
         "2",
         "\\N",
         "R",
         "9",
         "0.0",
         "47",
         "\\N",
         "\\N",
         "15",
         "9",
         "1:28.753",
         "215.100",
         "4"
        ],
        [
         "9",
         "10",
         "18",
         "10",
         "7",
         "12",
         "18",
         "\\N",
         "R",
         "10",
         "0.0",
         "43",
         "\\N",
         "\\N",
         "23",
         "13",
         "1:29.558",
         "213.166",
         "3"
        ],
        [
         "10",
         "11",
         "18",
         "11",
         "8",
         "18",
         "19",
         "\\N",
         "R",
         "11",
         "0.0",
         "32",
         "\\N",
         "\\N",
         "24",
         "15",
         "1:30.892",
         "210.038",
         "7"
        ],
        [
         "11",
         "12",
         "18",
         "12",
         "4",
         "6",
         "20",
         "\\N",
         "R",
         "12",
         "0.0",
         "30",
         "\\N",
         "\\N",
         "20",
         "16",
         "1:31.384",
         "208.907",
         "8"
        ],
        [
         "12",
         "13",
         "18",
         "13",
         "6",
         "2",
         "4",
         "\\N",
         "R",
         "13",
         "0.0",
         "29",
         "\\N",
         "\\N",
         "23",
         "6",
         "1:28.175",
         "216.510",
         "5"
        ],
        [
         "13",
         "14",
         "18",
         "14",
         "9",
         "9",
         "8",
         "\\N",
         "R",
         "14",
         "0.0",
         "25",
         "\\N",
         "\\N",
         "21",
         "11",
         "1:29.502",
         "213.300",
         "4"
        ],
        [
         "14",
         "15",
         "18",
         "15",
         "7",
         "11",
         "6",
         "\\N",
         "R",
         "15",
         "0.0",
         "19",
         "\\N",
         "\\N",
         "18",
         "10",
         "1:29.310",
         "213.758",
         "10"
        ],
        [
         "15",
         "16",
         "18",
         "16",
         "10",
         "20",
         "22",
         "\\N",
         "R",
         "16",
         "0.0",
         "8",
         "\\N",
         "\\N",
         "8",
         "17",
         "1:32.021",
         "207.461",
         "9"
        ],
        [
         "16",
         "17",
         "18",
         "17",
         "9",
         "10",
         "14",
         "\\N",
         "R",
         "17",
         "0.0",
         "0",
         "\\N",
         "\\N",
         "\\N",
         "\\N",
         "\\N",
         "\\N",
         "4"
        ],
        [
         "17",
         "18",
         "18",
         "18",
         "11",
         "16",
         "12",
         "\\N",
         "R",
         "18",
         "0.0",
         "0",
         "\\N",
         "\\N",
         "\\N",
         "\\N",
         "\\N",
         "\\N",
         "4"
        ],
        [
         "18",
         "19",
         "18",
         "19",
         "8",
         "19",
         "21",
         "\\N",
         "R",
         "19",
         "0.0",
         "0",
         "\\N",
         "\\N",
         "\\N",
         "\\N",
         "\\N",
         "\\N",
         "4"
        ],
        [
         "19",
         "20",
         "18",
         "20",
         "5",
         "15",
         "9",
         "\\N",
         "R",
         "20",
         "0.0",
         "0",
         "\\N",
         "\\N",
         "\\N",
         "\\N",
         "\\N",
         "\\N",
         "4"
        ],
        [
         "20",
         "21",
         "18",
         "21",
         "10",
         "21",
         "16",
         "\\N",
         "R",
         "21",
         "0.0",
         "0",
         "\\N",
         "\\N",
         "\\N",
         "\\N",
         "\\N",
         "\\N",
         "4"
        ],
        [
         "21",
         "22",
         "18",
         "22",
         "11",
         "17",
         "10",
         "\\N",
         "D",
         "22",
         "0.0",
         "58",
         "\\N",
         "\\N",
         "44",
         "8",
         "1:28.736",
         "215.141",
         "2"
        ],
        [
         "22",
         "23",
         "19",
         "8",
         "6",
         "1",
         "2",
         "1",
         "1",
         "1",
         "10.0",
         "56",
         "1:31:18.555",
         "5478555",
         "37",
         "2",
         "1:35.405",
         "209.158",
         "1"
        ],
        [
         "23",
         "24",
         "19",
         "9",
         "2",
         "4",
         "4",
         "2",
         "2",
         "2",
         "8.0",
         "56",
         "+19.570",
         "5498125",
         "39",
         "6",
         "1:35.921",
         "208.033",
         "1"
        ],
        [
         "24",
         "25",
         "19",
         "5",
         "1",
         "23",
         "8",
         "3",
         "3",
         "3",
         "6.0",
         "56",
         "+38.450",
         "5517005",
         "19",
         "7",
         "1:35.922",
         "208.031",
         "1"
        ],
        [
         "25",
         "26",
         "19",
         "15",
         "7",
         "11",
         "3",
         "4",
         "4",
         "4",
         "5.0",
         "56",
         "+45.832",
         "5524387",
         "53",
         "8",
         "1:36.068",
         "207.715",
         "1"
        ],
        [
         "26",
         "27",
         "19",
         "1",
         "1",
         "22",
         "9",
         "5",
         "5",
         "5",
         "4.0",
         "56",
         "+46.548",
         "5525103",
         "53",
         "3",
         "1:35.462",
         "209.033",
         "1"
        ],
        [
         "27",
         "28",
         "19",
         "2",
         "2",
         "3",
         "5",
         "6",
         "6",
         "6",
         "3.0",
         "56",
         "+49.833",
         "5528388",
         "55",
         "1",
         "1:35.366",
         "209.244",
         "1"
        ],
        [
         "28",
         "29",
         "19",
         "17",
         "9",
         "10",
         "6",
         "7",
         "7",
         "7",
         "2.0",
         "56",
         "+1:08.130",
         "5546685",
         "53",
         "12",
         "1:36.696",
         "206.366",
         "1"
        ],
        [
         "29",
         "30",
         "19",
         "4",
         "4",
         "5",
         "7",
         "8",
         "8",
         "8",
         "1.0",
         "56",
         "+1:10.041",
         "5548596",
         "40",
         "10",
         "1:36.288",
         "207.240",
         "1"
        ],
        [
         "30",
         "31",
         "19",
         "14",
         "9",
         "9",
         "12",
         "9",
         "9",
         "9",
         "0.0",
         "56",
         "+1:16.220",
         "5554775",
         "55",
         "9",
         "1:36.206",
         "207.417",
         "1"
        ],
        [
         "31",
         "32",
         "19",
         "18",
         "11",
         "16",
         "11",
         "10",
         "10",
         "10",
         "0.0",
         "56",
         "+1:26.214",
         "5564769",
         "56",
         "4",
         "1:35.715",
         "208.481",
         "1"
        ],
        [
         "32",
         "33",
         "19",
         "12",
         "4",
         "6",
         "13",
         "11",
         "11",
         "11",
         "0.0",
         "56",
         "+1:32.202",
         "5570757",
         "52",
         "15",
         "1:36.956",
         "205.812",
         "1"
        ],
        [
         "33",
         "34",
         "19",
         "21",
         "10",
         "21",
         "17",
         "12",
         "12",
         "12",
         "0.0",
         "55",
         "\\N",
         "\\N",
         "52",
         "16",
         "1:36.962",
         "205.800",
         "11"
        ],
        [
         "34",
         "35",
         "19",
         "22",
         "11",
         "17",
         "14",
         "13",
         "13",
         "13",
         "0.0",
         "55",
         "\\N",
         "\\N",
         "55",
         "11",
         "1:36.693",
         "206.372",
         "11"
        ],
        [
         "35",
         "36",
         "19",
         "3",
         "3",
         "7",
         "16",
         "14",
         "14",
         "14",
         "0.0",
         "55",
         "\\N",
         "\\N",
         "55",
         "13",
         "1:36.782",
         "206.182",
         "11"
        ],
        [
         "36",
         "37",
         "19",
         "19",
         "8",
         "19",
         "21",
         "15",
         "15",
         "15",
         "0.0",
         "55",
         "\\N",
         "\\N",
         "55",
         "18",
         "1:38.171",
         "203.265",
         "11"
        ],
        [
         "37",
         "38",
         "19",
         "11",
         "8",
         "18",
         "19",
         "16",
         "16",
         "16",
         "0.0",
         "54",
         "\\N",
         "\\N",
         "53",
         "19",
         "1:38.504",
         "202.578",
         "12"
        ],
        [
         "38",
         "39",
         "19",
         "6",
         "3",
         "8",
         "22",
         "17",
         "17",
         "17",
         "0.0",
         "54",
         "\\N",
         "\\N",
         "19",
         "17",
         "1:37.711",
         "204.222",
         "12"
        ],
        [
         "39",
         "40",
         "19",
         "20",
         "5",
         "15",
         "15",
         "\\N",
         "R",
         "18",
         "0.0",
         "39",
         "\\N",
         "\\N",
         "37",
         "14",
         "1:36.870",
         "205.995",
         "5"
        ],
        [
         "40",
         "41",
         "19",
         "13",
         "6",
         "2",
         "1",
         "\\N",
         "R",
         "19",
         "0.0",
         "30",
         "\\N",
         "\\N",
         "15",
         "5",
         "1:35.914",
         "208.048",
         "20"
        ],
        [
         "41",
         "42",
         "19",
         "16",
         "10",
         "20",
         "20",
         "\\N",
         "R",
         "20",
         "0.0",
         "5",
         "\\N",
         "\\N",
         "3",
         "20",
         "1:40.330",
         "198.891",
         "9"
        ],
        [
         "42",
         "43",
         "19",
         "10",
         "7",
         "12",
         "10",
         "\\N",
         "R",
         "21",
         "0.0",
         "1",
         "\\N",
         "\\N",
         "\\N",
         "\\N",
         "\\N",
         "\\N",
         "4"
        ],
        [
         "43",
         "44",
         "19",
         "7",
         "5",
         "14",
         "18",
         "\\N",
         "R",
         "22",
         "0.0",
         "0",
         "\\N",
         "\\N",
         "\\N",
         "\\N",
         "\\N",
         "\\N",
         "20"
        ],
        [
         "44",
         "45",
         "20",
         "13",
         "6",
         "2",
         "2",
         "1",
         "1",
         "1",
         "10.0",
         "57",
         "1:31:06.970",
         "5466970",
         "38",
         "3",
         "1:33.600",
         "208.153",
         "1"
        ],
        [
         "45",
         "46",
         "20",
         "8",
         "6",
         "1",
         "4",
         "2",
         "2",
         "2",
         "8.0",
         "57",
         "+3.339",
         "5470309",
         "35",
         "4",
         "1:33.709",
         "207.911",
         "1"
        ],
        [
         "46",
         "47",
         "20",
         "9",
         "2",
         "4",
         "1",
         "3",
         "3",
         "3",
         "6.0",
         "57",
         "+4.998",
         "5471968",
         "55",
         "5",
         "1:33.775",
         "207.765",
         "1"
        ],
        [
         "47",
         "48",
         "20",
         "2",
         "2",
         "3",
         "6",
         "4",
         "4",
         "4",
         "5.0",
         "57",
         "+8.409",
         "5475379",
         "48",
         "2",
         "1:33.565",
         "208.231",
         "1"
        ],
        [
         "48",
         "49",
         "20",
         "5",
         "1",
         "23",
         "5",
         "5",
         "5",
         "5",
         "4.0",
         "57",
         "+26.789",
         "5493759",
         "49",
         "1",
         "1:33.193",
         "209.062",
         "1"
        ],
        [
         "49",
         "50",
         "20",
         "15",
         "7",
         "11",
         "7",
         "6",
         "6",
         "6",
         "3.0",
         "57",
         "+41.314",
         "5508284",
         "45",
         "7",
         "1:34.204",
         "206.819",
         "1"
        ]
       ],
       "shape": {
        "columns": 18,
        "rows": 25840
       }
      },
      "text/html": [
       "<div>\n",
       "<style scoped>\n",
       "    .dataframe tbody tr th:only-of-type {\n",
       "        vertical-align: middle;\n",
       "    }\n",
       "\n",
       "    .dataframe tbody tr th {\n",
       "        vertical-align: top;\n",
       "    }\n",
       "\n",
       "    .dataframe thead th {\n",
       "        text-align: right;\n",
       "    }\n",
       "</style>\n",
       "<table border=\"1\" class=\"dataframe\">\n",
       "  <thead>\n",
       "    <tr style=\"text-align: right;\">\n",
       "      <th></th>\n",
       "      <th>resultId</th>\n",
       "      <th>raceId</th>\n",
       "      <th>driverId</th>\n",
       "      <th>constructorId</th>\n",
       "      <th>number</th>\n",
       "      <th>grid</th>\n",
       "      <th>position</th>\n",
       "      <th>positionText</th>\n",
       "      <th>positionOrder</th>\n",
       "      <th>points</th>\n",
       "      <th>laps</th>\n",
       "      <th>time</th>\n",
       "      <th>milliseconds</th>\n",
       "      <th>fastestLap</th>\n",
       "      <th>rank</th>\n",
       "      <th>fastestLapTime</th>\n",
       "      <th>fastestLapSpeed</th>\n",
       "      <th>statusId</th>\n",
       "    </tr>\n",
       "  </thead>\n",
       "  <tbody>\n",
       "    <tr>\n",
       "      <th>0</th>\n",
       "      <td>1</td>\n",
       "      <td>18</td>\n",
       "      <td>1</td>\n",
       "      <td>1</td>\n",
       "      <td>22</td>\n",
       "      <td>1</td>\n",
       "      <td>1</td>\n",
       "      <td>1</td>\n",
       "      <td>1</td>\n",
       "      <td>10.0</td>\n",
       "      <td>58</td>\n",
       "      <td>1:34:50.616</td>\n",
       "      <td>5690616</td>\n",
       "      <td>39</td>\n",
       "      <td>2</td>\n",
       "      <td>1:27.452</td>\n",
       "      <td>218.300</td>\n",
       "      <td>1</td>\n",
       "    </tr>\n",
       "    <tr>\n",
       "      <th>1</th>\n",
       "      <td>2</td>\n",
       "      <td>18</td>\n",
       "      <td>2</td>\n",
       "      <td>2</td>\n",
       "      <td>3</td>\n",
       "      <td>5</td>\n",
       "      <td>2</td>\n",
       "      <td>2</td>\n",
       "      <td>2</td>\n",
       "      <td>8.0</td>\n",
       "      <td>58</td>\n",
       "      <td>+5.478</td>\n",
       "      <td>5696094</td>\n",
       "      <td>41</td>\n",
       "      <td>3</td>\n",
       "      <td>1:27.739</td>\n",
       "      <td>217.586</td>\n",
       "      <td>1</td>\n",
       "    </tr>\n",
       "    <tr>\n",
       "      <th>2</th>\n",
       "      <td>3</td>\n",
       "      <td>18</td>\n",
       "      <td>3</td>\n",
       "      <td>3</td>\n",
       "      <td>7</td>\n",
       "      <td>7</td>\n",
       "      <td>3</td>\n",
       "      <td>3</td>\n",
       "      <td>3</td>\n",
       "      <td>6.0</td>\n",
       "      <td>58</td>\n",
       "      <td>+8.163</td>\n",
       "      <td>5698779</td>\n",
       "      <td>41</td>\n",
       "      <td>5</td>\n",
       "      <td>1:28.090</td>\n",
       "      <td>216.719</td>\n",
       "      <td>1</td>\n",
       "    </tr>\n",
       "    <tr>\n",
       "      <th>3</th>\n",
       "      <td>4</td>\n",
       "      <td>18</td>\n",
       "      <td>4</td>\n",
       "      <td>4</td>\n",
       "      <td>5</td>\n",
       "      <td>11</td>\n",
       "      <td>4</td>\n",
       "      <td>4</td>\n",
       "      <td>4</td>\n",
       "      <td>5.0</td>\n",
       "      <td>58</td>\n",
       "      <td>+17.181</td>\n",
       "      <td>5707797</td>\n",
       "      <td>58</td>\n",
       "      <td>7</td>\n",
       "      <td>1:28.603</td>\n",
       "      <td>215.464</td>\n",
       "      <td>1</td>\n",
       "    </tr>\n",
       "    <tr>\n",
       "      <th>4</th>\n",
       "      <td>5</td>\n",
       "      <td>18</td>\n",
       "      <td>5</td>\n",
       "      <td>1</td>\n",
       "      <td>23</td>\n",
       "      <td>3</td>\n",
       "      <td>5</td>\n",
       "      <td>5</td>\n",
       "      <td>5</td>\n",
       "      <td>4.0</td>\n",
       "      <td>58</td>\n",
       "      <td>+18.014</td>\n",
       "      <td>5708630</td>\n",
       "      <td>43</td>\n",
       "      <td>1</td>\n",
       "      <td>1:27.418</td>\n",
       "      <td>218.385</td>\n",
       "      <td>1</td>\n",
       "    </tr>\n",
       "    <tr>\n",
       "      <th>...</th>\n",
       "      <td>...</td>\n",
       "      <td>...</td>\n",
       "      <td>...</td>\n",
       "      <td>...</td>\n",
       "      <td>...</td>\n",
       "      <td>...</td>\n",
       "      <td>...</td>\n",
       "      <td>...</td>\n",
       "      <td>...</td>\n",
       "      <td>...</td>\n",
       "      <td>...</td>\n",
       "      <td>...</td>\n",
       "      <td>...</td>\n",
       "      <td>...</td>\n",
       "      <td>...</td>\n",
       "      <td>...</td>\n",
       "      <td>...</td>\n",
       "      <td>...</td>\n",
       "    </tr>\n",
       "    <tr>\n",
       "      <th>25835</th>\n",
       "      <td>25841</td>\n",
       "      <td>1096</td>\n",
       "      <td>854</td>\n",
       "      <td>210</td>\n",
       "      <td>47</td>\n",
       "      <td>12</td>\n",
       "      <td>16</td>\n",
       "      <td>16</td>\n",
       "      <td>16</td>\n",
       "      <td>0.0</td>\n",
       "      <td>57</td>\n",
       "      <td>\\N</td>\n",
       "      <td>\\N</td>\n",
       "      <td>39</td>\n",
       "      <td>12</td>\n",
       "      <td>1:29.833</td>\n",
       "      <td>211.632</td>\n",
       "      <td>11</td>\n",
       "    </tr>\n",
       "    <tr>\n",
       "      <th>25836</th>\n",
       "      <td>25842</td>\n",
       "      <td>1096</td>\n",
       "      <td>825</td>\n",
       "      <td>210</td>\n",
       "      <td>20</td>\n",
       "      <td>16</td>\n",
       "      <td>17</td>\n",
       "      <td>17</td>\n",
       "      <td>17</td>\n",
       "      <td>0.0</td>\n",
       "      <td>57</td>\n",
       "      <td>\\N</td>\n",
       "      <td>\\N</td>\n",
       "      <td>40</td>\n",
       "      <td>20</td>\n",
       "      <td>1:31.158</td>\n",
       "      <td>208.556</td>\n",
       "      <td>11</td>\n",
       "    </tr>\n",
       "    <tr>\n",
       "      <th>25837</th>\n",
       "      <td>25843</td>\n",
       "      <td>1096</td>\n",
       "      <td>1</td>\n",
       "      <td>131</td>\n",
       "      <td>44</td>\n",
       "      <td>5</td>\n",
       "      <td>18</td>\n",
       "      <td>18</td>\n",
       "      <td>18</td>\n",
       "      <td>0.0</td>\n",
       "      <td>55</td>\n",
       "      <td>\\N</td>\n",
       "      <td>\\N</td>\n",
       "      <td>42</td>\n",
       "      <td>11</td>\n",
       "      <td>1:29.788</td>\n",
       "      <td>211.738</td>\n",
       "      <td>9</td>\n",
       "    </tr>\n",
       "    <tr>\n",
       "      <th>25838</th>\n",
       "      <td>25844</td>\n",
       "      <td>1096</td>\n",
       "      <td>849</td>\n",
       "      <td>3</td>\n",
       "      <td>6</td>\n",
       "      <td>20</td>\n",
       "      <td>19</td>\n",
       "      <td>19</td>\n",
       "      <td>19</td>\n",
       "      <td>0.0</td>\n",
       "      <td>55</td>\n",
       "      <td>\\N</td>\n",
       "      <td>\\N</td>\n",
       "      <td>45</td>\n",
       "      <td>14</td>\n",
       "      <td>1:30.309</td>\n",
       "      <td>210.517</td>\n",
       "      <td>130</td>\n",
       "    </tr>\n",
       "    <tr>\n",
       "      <th>25839</th>\n",
       "      <td>25845</td>\n",
       "      <td>1096</td>\n",
       "      <td>4</td>\n",
       "      <td>214</td>\n",
       "      <td>14</td>\n",
       "      <td>10</td>\n",
       "      <td>\\N</td>\n",
       "      <td>R</td>\n",
       "      <td>20</td>\n",
       "      <td>0.0</td>\n",
       "      <td>27</td>\n",
       "      <td>\\N</td>\n",
       "      <td>\\N</td>\n",
       "      <td>24</td>\n",
       "      <td>17</td>\n",
       "      <td>1:30.579</td>\n",
       "      <td>209.889</td>\n",
       "      <td>47</td>\n",
       "    </tr>\n",
       "  </tbody>\n",
       "</table>\n",
       "<p>25840 rows × 18 columns</p>\n",
       "</div>"
      ],
      "text/plain": [
       "       resultId  raceId  driverId  constructorId number  grid position  \\\n",
       "0             1      18         1              1     22     1        1   \n",
       "1             2      18         2              2      3     5        2   \n",
       "2             3      18         3              3      7     7        3   \n",
       "3             4      18         4              4      5    11        4   \n",
       "4             5      18         5              1     23     3        5   \n",
       "...         ...     ...       ...            ...    ...   ...      ...   \n",
       "25835     25841    1096       854            210     47    12       16   \n",
       "25836     25842    1096       825            210     20    16       17   \n",
       "25837     25843    1096         1            131     44     5       18   \n",
       "25838     25844    1096       849              3      6    20       19   \n",
       "25839     25845    1096         4            214     14    10       \\N   \n",
       "\n",
       "      positionText  positionOrder  points  laps         time milliseconds  \\\n",
       "0                1              1    10.0    58  1:34:50.616      5690616   \n",
       "1                2              2     8.0    58       +5.478      5696094   \n",
       "2                3              3     6.0    58       +8.163      5698779   \n",
       "3                4              4     5.0    58      +17.181      5707797   \n",
       "4                5              5     4.0    58      +18.014      5708630   \n",
       "...            ...            ...     ...   ...          ...          ...   \n",
       "25835           16             16     0.0    57           \\N           \\N   \n",
       "25836           17             17     0.0    57           \\N           \\N   \n",
       "25837           18             18     0.0    55           \\N           \\N   \n",
       "25838           19             19     0.0    55           \\N           \\N   \n",
       "25839            R             20     0.0    27           \\N           \\N   \n",
       "\n",
       "      fastestLap rank fastestLapTime fastestLapSpeed  statusId  \n",
       "0             39    2       1:27.452         218.300         1  \n",
       "1             41    3       1:27.739         217.586         1  \n",
       "2             41    5       1:28.090         216.719         1  \n",
       "3             58    7       1:28.603         215.464         1  \n",
       "4             43    1       1:27.418         218.385         1  \n",
       "...          ...  ...            ...             ...       ...  \n",
       "25835         39   12       1:29.833         211.632        11  \n",
       "25836         40   20       1:31.158         208.556        11  \n",
       "25837         42   11       1:29.788         211.738         9  \n",
       "25838         45   14       1:30.309         210.517       130  \n",
       "25839         24   17       1:30.579         209.889        47  \n",
       "\n",
       "[25840 rows x 18 columns]"
      ]
     },
<<<<<<< HEAD
     "execution_count": 24,
=======
     "execution_count": 64,
>>>>>>> upstream/main
     "metadata": {},
     "output_type": "execute_result"
    }
   ],
   "source": [
    "results"
   ]
  },
  {
   "cell_type": "code",
<<<<<<< HEAD
   "execution_count": 29,
=======
   "execution_count": 65,
>>>>>>> upstream/main
   "metadata": {},
   "outputs": [],
   "source": [
    "# This command merges the \"aggregate\" information in \"driver_agg\" into\n",
    "# \"results\" as shown in the figure\n",
    "# The merging variable \"on\" is determined by \"driverId\", which is a column\n",
    "# that is common to both datasets\n",
    "# \"how = left\" indicates that the left dataset is the baseline\n",
    "#\n",
    "# Note: For this method to work well \"driverId\" needs to contain unique alues\n",
    "# in \"drivers_agg\". If not you may need to clean the data beforehand\n",
    "\n",
    "results_merge = pd.merge(results,\n",
    "                         drivers_agg,\n",
    "                         on = \"driverId\",\n",
    "                         how = \"left\")\n",
    "\n"
   ]
  },
  {
   "cell_type": "code",
<<<<<<< HEAD
   "execution_count": 26,
=======
   "execution_count": 66,
>>>>>>> upstream/main
   "metadata": {},
   "outputs": [
    {
     "data": {
      "application/vnd.microsoft.datawrangler.viewer.v0+json": {
       "columns": [
        {
         "name": "index",
         "rawType": "int64",
         "type": "integer"
        },
        {
         "name": "resultId",
         "rawType": "int64",
         "type": "integer"
        },
        {
         "name": "raceId",
         "rawType": "int64",
         "type": "integer"
        },
        {
         "name": "driverId",
         "rawType": "int64",
         "type": "integer"
        },
        {
         "name": "constructorId",
         "rawType": "int64",
         "type": "integer"
        },
        {
         "name": "number",
         "rawType": "object",
         "type": "string"
        },
        {
         "name": "grid",
         "rawType": "int64",
         "type": "integer"
        },
        {
         "name": "position",
         "rawType": "object",
         "type": "string"
        },
        {
         "name": "positionText",
         "rawType": "object",
         "type": "string"
        },
        {
         "name": "positionOrder",
         "rawType": "int64",
         "type": "integer"
        },
        {
         "name": "points",
         "rawType": "float64",
         "type": "float"
        },
        {
         "name": "laps",
         "rawType": "int64",
         "type": "integer"
        },
        {
         "name": "time",
         "rawType": "object",
         "type": "string"
        },
        {
         "name": "milliseconds",
         "rawType": "object",
         "type": "string"
        },
        {
         "name": "fastestLap",
         "rawType": "object",
         "type": "string"
        },
        {
         "name": "rank",
         "rawType": "object",
         "type": "string"
        },
        {
         "name": "fastestLapTime",
         "rawType": "object",
         "type": "string"
        },
        {
         "name": "fastestLapSpeed",
         "rawType": "object",
         "type": "string"
        },
        {
         "name": "statusId",
         "rawType": "int64",
         "type": "integer"
        },
        {
         "name": "mean_points",
         "rawType": "float64",
         "type": "float"
        },
        {
         "name": "sd_points",
         "rawType": "float64",
         "type": "float"
        },
        {
         "name": "min_points",
         "rawType": "float64",
         "type": "float"
        },
        {
         "name": "max_points",
         "rawType": "float64",
         "type": "float"
        },
        {
         "name": "count_obs",
         "rawType": "int64",
         "type": "integer"
        }
       ],
       "conversionMethod": "pd.DataFrame",
<<<<<<< HEAD
       "ref": "179723a4-fcc2-4e43-98f6-5f5ff7c418e3",
=======
       "ref": "bcac64e7-18a4-4e3c-aebb-7746df463e43",
>>>>>>> upstream/main
       "rows": [
        [
         "0",
         "1",
         "18",
         "1",
         "1",
         "22",
         "1",
         "1",
         "1",
         "1",
         "10.0",
         "58",
         "1:34:50.616",
         "5690616",
         "39",
         "2",
         "1:27.452",
         "218.300",
         "1",
         "14.182258064516128",
         "9.224098243847557",
         "0.0",
         "50.0",
         "310"
        ],
        [
         "1",
         "2",
         "18",
         "2",
         "2",
         "3",
         "5",
         "2",
         "2",
         "2",
         "8.0",
         "58",
         "+5.478",
         "5696094",
         "41",
         "3",
         "1:27.739",
         "217.586",
         "1",
         "1.4076086956521738",
         "2.372922557423763",
         "0.0",
         "15.0",
         "184"
        ],
        [
         "2",
         "3",
         "18",
         "3",
         "3",
         "7",
         "7",
         "3",
         "3",
         "3",
         "6.0",
         "58",
         "+8.163",
         "5698779",
         "41",
         "5",
         "1:28.090",
         "216.719",
         "1",
         "7.740291262135922",
         "8.672455860162094",
         "0.0",
         "25.0",
         "206"
        ],
        [
         "3",
         "4",
         "18",
         "4",
         "4",
         "5",
         "11",
         "4",
         "4",
         "4",
         "5.0",
         "58",
         "+17.181",
         "5707797",
         "58",
         "7",
         "1:28.603",
         "215.464",
         "1",
         "5.756983240223463",
         "6.330721312003123",
         "0.0",
         "25.0",
         "358"
        ],
        [
         "4",
         "5",
         "18",
         "5",
         "1",
         "23",
         "3",
         "5",
         "5",
         "5",
         "4.0",
         "58",
         "+18.014",
         "5708630",
         "43",
         "1",
         "1:27.418",
         "218.385",
         "1",
         "0.9375",
         "1.9695028411864353",
         "0.0",
         "10.0",
         "112"
        ],
        [
         "5",
         "6",
         "18",
         "6",
         "3",
         "8",
         "13",
         "6",
         "6",
         "6",
         "3.0",
         "57",
         "\\N",
         "\\N",
         "50",
         "14",
         "1:29.639",
         "212.974",
         "11",
         "0.25",
         "0.6917885721601857",
         "0.0",
         "3.0",
         "36"
        ],
        [
         "6",
         "7",
         "18",
         "7",
         "5",
         "14",
         "17",
         "7",
         "7",
         "7",
         "2.0",
         "55",
         "\\N",
         "\\N",
         "22",
         "12",
         "1:29.534",
         "213.224",
         "5",
         "0.2222222222222222",
         "0.5773502691896258",
         "0.0",
         "2.0",
         "27"
        ],
        [
         "7",
         "8",
         "18",
         "8",
         "6",
         "1",
         "15",
         "8",
         "8",
         "8",
         "1.0",
         "53",
         "\\N",
         "\\N",
         "20",
         "4",
         "1:27.903",
         "217.180",
         "5",
         "5.3210227272727275",
         "5.814003242937152",
         "0.0",
         "25.0",
         "352"
        ],
        [
         "8",
         "9",
         "18",
         "9",
         "2",
         "4",
         "2",
         "\\N",
         "R",
         "9",
         "0.0",
         "47",
         "\\N",
         "\\N",
         "15",
         "9",
         "1:28.753",
         "215.100",
         "4",
         "2.7676767676767677",
         "3.97139846552896",
         "0.0",
         "18.0",
         "99"
        ],
        [
         "9",
         "10",
         "18",
         "10",
         "7",
         "12",
         "18",
         "\\N",
         "R",
         "10",
         "0.0",
         "43",
         "\\N",
         "\\N",
         "23",
         "13",
         "1:29.558",
         "213.166",
         "3",
         "0.5368421052631579",
         "1.5423836644690754",
         "0.0",
         "8.0",
         "95"
        ],
        [
         "10",
         "11",
         "18",
         "11",
         "8",
         "18",
         "19",
         "\\N",
         "R",
         "11",
         "0.0",
         "32",
         "\\N",
         "\\N",
         "24",
         "15",
         "1:30.892",
         "210.038",
         "7",
         "0.4835164835164835",
         "1.2854972005037786",
         "0.0",
         "6.0",
         "91"
        ],
        [
         "11",
         "12",
         "18",
         "12",
         "4",
         "6",
         "20",
         "\\N",
         "R",
         "12",
         "0.0",
         "30",
         "\\N",
         "\\N",
         "20",
         "16",
         "1:31.384",
         "208.907",
         "8",
         "0.6785714285714286",
         "1.826828286211265",
         "0.0",
         "8.0",
         "28"
        ],
        [
         "12",
         "13",
         "18",
         "13",
         "6",
         "2",
         "4",
         "\\N",
         "R",
         "13",
         "0.0",
         "29",
         "\\N",
         "\\N",
         "23",
         "6",
         "1:28.175",
         "216.510",
         "5",
         "4.306273062730627",
         "5.0755694209992654",
         "0.0",
         "36.0",
         "271"
        ],
        [
         "13",
         "14",
         "18",
         "14",
         "9",
         "9",
         "8",
         "\\N",
         "R",
         "14",
         "0.0",
         "25",
         "\\N",
         "\\N",
         "21",
         "11",
         "1:29.502",
         "213.300",
         "4",
         "2.165991902834008",
         "2.8486156472267776",
         "0.0",
         "10.0",
         "247"
        ],
        [
         "14",
         "15",
         "18",
         "15",
         "7",
         "11",
         "6",
         "\\N",
         "R",
         "15",
         "0.0",
         "19",
         "\\N",
         "\\N",
         "18",
         "10",
         "1:29.310",
         "213.758",
         "10",
         "0.962890625",
         "1.8712452191904558",
         "0.0",
         "10.0",
         "256"
        ],
        [
         "15",
         "16",
         "18",
         "16",
         "10",
         "20",
         "22",
         "\\N",
         "R",
         "16",
         "0.0",
         "8",
         "\\N",
         "\\N",
         "8",
         "17",
         "1:32.021",
         "207.461",
         "9",
         "0.96875",
         "2.3034978537443274",
         "0.0",
         "10.0",
         "128"
        ],
        [
         "16",
         "17",
         "18",
         "17",
         "9",
         "10",
         "14",
         "\\N",
         "R",
         "17",
         "0.0",
         "0",
         "\\N",
         "\\N",
         "\\N",
         "\\N",
         "\\N",
         "\\N",
         "4",
         "4.8271889400921655",
         "6.798614232862791",
         "0.0",
         "25.0",
         "217"
        ],
        [
         "17",
         "18",
         "18",
         "18",
         "11",
         "16",
         "12",
         "\\N",
         "R",
         "18",
         "0.0",
         "0",
         "\\N",
         "\\N",
         "\\N",
         "\\N",
         "\\N",
         "\\N",
         "4",
         "3.9967637540453076",
         "5.949734459793864",
         "0.0",
         "25.0",
         "309"
        ],
        [
         "18",
         "19",
         "18",
         "19",
         "8",
         "19",
         "21",
         "\\N",
         "R",
         "19",
         "0.0",
         "0",
         "\\N",
         "\\N",
         "\\N",
         "\\N",
         "\\N",
         "\\N",
         "4",
         "0.0",
         "0.0",
         "0.0",
         "0.0",
         "24"
        ],
        [
         "19",
         "20",
         "18",
         "20",
         "5",
         "15",
         "9",
         "\\N",
         "R",
         "20",
         "0.0",
         "0",
         "\\N",
         "\\N",
         "\\N",
         "\\N",
         "\\N",
         "\\N",
         "4",
         "10.326666666666666",
         "8.948381641516505",
         "0.0",
         "25.0",
         "300"
        ],
        [
         "20",
         "21",
         "18",
         "21",
         "10",
         "21",
         "16",
         "\\N",
         "R",
         "21",
         "0.0",
         "0",
         "\\N",
         "\\N",
         "\\N",
         "\\N",
         "\\N",
         "\\N",
         "4",
         "1.1904761904761905",
         "2.140315953534053",
         "0.0",
         "10.0",
         "231"
        ],
        [
         "21",
         "22",
         "18",
         "22",
         "11",
         "17",
         "10",
         "\\N",
         "D",
         "22",
         "0.0",
         "58",
         "\\N",
         "\\N",
         "44",
         "8",
         "1:28.736",
         "215.141",
         "2",
         "2.01840490797546",
         "2.9172640346483485",
         "0.0",
         "12.0",
         "326"
        ],
        [
         "22",
         "23",
         "19",
         "8",
         "6",
         "1",
         "2",
         "1",
         "1",
         "1",
         "10.0",
         "56",
         "1:31:18.555",
         "5478555",
         "37",
         "2",
         "1:35.405",
         "209.158",
         "1",
         "5.3210227272727275",
         "5.814003242937152",
         "0.0",
         "25.0",
         "352"
        ],
        [
         "23",
         "24",
         "19",
         "9",
         "2",
         "4",
         "4",
         "2",
         "2",
         "2",
         "8.0",
         "56",
         "+19.570",
         "5498125",
         "39",
         "6",
         "1:35.921",
         "208.033",
         "1",
         "2.7676767676767677",
         "3.97139846552896",
         "0.0",
         "18.0",
         "99"
        ],
        [
         "24",
         "25",
         "19",
         "5",
         "1",
         "23",
         "8",
         "3",
         "3",
         "3",
         "6.0",
         "56",
         "+38.450",
         "5517005",
         "19",
         "7",
         "1:35.922",
         "208.031",
         "1",
         "0.9375",
         "1.9695028411864353",
         "0.0",
         "10.0",
         "112"
        ],
        [
         "25",
         "26",
         "19",
         "15",
         "7",
         "11",
         "3",
         "4",
         "4",
         "4",
         "5.0",
         "56",
         "+45.832",
         "5524387",
         "53",
         "8",
         "1:36.068",
         "207.715",
         "1",
         "0.962890625",
         "1.8712452191904558",
         "0.0",
         "10.0",
         "256"
        ],
        [
         "26",
         "27",
         "19",
         "1",
         "1",
         "22",
         "9",
         "5",
         "5",
         "5",
         "4.0",
         "56",
         "+46.548",
         "5525103",
         "53",
         "3",
         "1:35.462",
         "209.033",
         "1",
         "14.182258064516128",
         "9.224098243847557",
         "0.0",
         "50.0",
         "310"
        ],
        [
         "27",
         "28",
         "19",
         "2",
         "2",
         "3",
         "5",
         "6",
         "6",
         "6",
         "3.0",
         "56",
         "+49.833",
         "5528388",
         "55",
         "1",
         "1:35.366",
         "209.244",
         "1",
         "1.4076086956521738",
         "2.372922557423763",
         "0.0",
         "15.0",
         "184"
        ],
        [
         "28",
         "29",
         "19",
         "17",
         "9",
         "10",
         "6",
         "7",
         "7",
         "7",
         "2.0",
         "56",
         "+1:08.130",
         "5546685",
         "53",
         "12",
         "1:36.696",
         "206.366",
         "1",
         "4.8271889400921655",
         "6.798614232862791",
         "0.0",
         "25.0",
         "217"
        ],
        [
         "29",
         "30",
         "19",
         "4",
         "4",
         "5",
         "7",
         "8",
         "8",
         "8",
         "1.0",
         "56",
         "+1:10.041",
         "5548596",
         "40",
         "10",
         "1:36.288",
         "207.240",
         "1",
         "5.756983240223463",
         "6.330721312003123",
         "0.0",
         "25.0",
         "358"
        ],
        [
         "30",
         "31",
         "19",
         "14",
         "9",
         "9",
         "12",
         "9",
         "9",
         "9",
         "0.0",
         "56",
         "+1:16.220",
         "5554775",
         "55",
         "9",
         "1:36.206",
         "207.417",
         "1",
         "2.165991902834008",
         "2.8486156472267776",
         "0.0",
         "10.0",
         "247"
        ],
        [
         "31",
         "32",
         "19",
         "18",
         "11",
         "16",
         "11",
         "10",
         "10",
         "10",
         "0.0",
         "56",
         "+1:26.214",
         "5564769",
         "56",
         "4",
         "1:35.715",
         "208.481",
         "1",
         "3.9967637540453076",
         "5.949734459793864",
         "0.0",
         "25.0",
         "309"
        ],
        [
         "32",
         "33",
         "19",
         "12",
         "4",
         "6",
         "13",
         "11",
         "11",
         "11",
         "0.0",
         "56",
         "+1:32.202",
         "5570757",
         "52",
         "15",
         "1:36.956",
         "205.812",
         "1",
         "0.6785714285714286",
         "1.826828286211265",
         "0.0",
         "8.0",
         "28"
        ],
        [
         "33",
         "34",
         "19",
         "21",
         "10",
         "21",
         "17",
         "12",
         "12",
         "12",
         "0.0",
         "55",
         "\\N",
         "\\N",
         "52",
         "16",
         "1:36.962",
         "205.800",
         "11",
         "1.1904761904761905",
         "2.140315953534053",
         "0.0",
         "10.0",
         "231"
        ],
        [
         "34",
         "35",
         "19",
         "22",
         "11",
         "17",
         "14",
         "13",
         "13",
         "13",
         "0.0",
         "55",
         "\\N",
         "\\N",
         "55",
         "11",
         "1:36.693",
         "206.372",
         "11",
         "2.01840490797546",
         "2.9172640346483485",
         "0.0",
         "12.0",
         "326"
        ],
        [
         "35",
         "36",
         "19",
         "3",
         "3",
         "7",
         "16",
         "14",
         "14",
         "14",
         "0.0",
         "55",
         "\\N",
         "\\N",
         "55",
         "13",
         "1:36.782",
         "206.182",
         "11",
         "7.740291262135922",
         "8.672455860162094",
         "0.0",
         "25.0",
         "206"
        ],
        [
         "36",
         "37",
         "19",
         "19",
         "8",
         "19",
         "21",
         "15",
         "15",
         "15",
         "0.0",
         "55",
         "\\N",
         "\\N",
         "55",
         "18",
         "1:38.171",
         "203.265",
         "11",
         "0.0",
         "0.0",
         "0.0",
         "0.0",
         "24"
        ],
        [
         "37",
         "38",
         "19",
         "11",
         "8",
         "18",
         "19",
         "16",
         "16",
         "16",
         "0.0",
         "54",
         "\\N",
         "\\N",
         "53",
         "19",
         "1:38.504",
         "202.578",
         "12",
         "0.4835164835164835",
         "1.2854972005037786",
         "0.0",
         "6.0",
         "91"
        ],
        [
         "38",
         "39",
         "19",
         "6",
         "3",
         "8",
         "22",
         "17",
         "17",
         "17",
         "0.0",
         "54",
         "\\N",
         "\\N",
         "19",
         "17",
         "1:37.711",
         "204.222",
         "12",
         "0.25",
         "0.6917885721601857",
         "0.0",
         "3.0",
         "36"
        ],
        [
         "39",
         "40",
         "19",
         "20",
         "5",
         "15",
         "15",
         "\\N",
         "R",
         "18",
         "0.0",
         "39",
         "\\N",
         "\\N",
         "37",
         "14",
         "1:36.870",
         "205.995",
         "5",
         "10.326666666666666",
         "8.948381641516505",
         "0.0",
         "25.0",
         "300"
        ],
        [
         "40",
         "41",
         "19",
         "13",
         "6",
         "2",
         "1",
         "\\N",
         "R",
         "19",
         "0.0",
         "30",
         "\\N",
         "\\N",
         "15",
         "5",
         "1:35.914",
         "208.048",
         "20",
         "4.306273062730627",
         "5.0755694209992654",
         "0.0",
         "36.0",
         "271"
        ],
        [
         "41",
         "42",
         "19",
         "16",
         "10",
         "20",
         "20",
         "\\N",
         "R",
         "20",
         "0.0",
         "5",
         "\\N",
         "\\N",
         "3",
         "20",
         "1:40.330",
         "198.891",
         "9",
         "0.96875",
         "2.3034978537443274",
         "0.0",
         "10.0",
         "128"
        ],
        [
         "42",
         "43",
         "19",
         "10",
         "7",
         "12",
         "10",
         "\\N",
         "R",
         "21",
         "0.0",
         "1",
         "\\N",
         "\\N",
         "\\N",
         "\\N",
         "\\N",
         "\\N",
         "4",
         "0.5368421052631579",
         "1.5423836644690754",
         "0.0",
         "8.0",
         "95"
        ],
        [
         "43",
         "44",
         "19",
         "7",
         "5",
         "14",
         "18",
         "\\N",
         "R",
         "22",
         "0.0",
         "0",
         "\\N",
         "\\N",
         "\\N",
         "\\N",
         "\\N",
         "\\N",
         "20",
         "0.2222222222222222",
         "0.5773502691896258",
         "0.0",
         "2.0",
         "27"
        ],
        [
         "44",
         "45",
         "20",
         "13",
         "6",
         "2",
         "2",
         "1",
         "1",
         "1",
         "10.0",
         "57",
         "1:31:06.970",
         "5466970",
         "38",
         "3",
         "1:33.600",
         "208.153",
         "1",
         "4.306273062730627",
         "5.0755694209992654",
         "0.0",
         "36.0",
         "271"
        ],
        [
         "45",
         "46",
         "20",
         "8",
         "6",
         "1",
         "4",
         "2",
         "2",
         "2",
         "8.0",
         "57",
         "+3.339",
         "5470309",
         "35",
         "4",
         "1:33.709",
         "207.911",
         "1",
         "5.3210227272727275",
         "5.814003242937152",
         "0.0",
         "25.0",
         "352"
        ],
        [
         "46",
         "47",
         "20",
         "9",
         "2",
         "4",
         "1",
         "3",
         "3",
         "3",
         "6.0",
         "57",
         "+4.998",
         "5471968",
         "55",
         "5",
         "1:33.775",
         "207.765",
         "1",
         "2.7676767676767677",
         "3.97139846552896",
         "0.0",
         "18.0",
         "99"
        ],
        [
         "47",
         "48",
         "20",
         "2",
         "2",
         "3",
         "6",
         "4",
         "4",
         "4",
         "5.0",
         "57",
         "+8.409",
         "5475379",
         "48",
         "2",
         "1:33.565",
         "208.231",
         "1",
         "1.4076086956521738",
         "2.372922557423763",
         "0.0",
         "15.0",
         "184"
        ],
        [
         "48",
         "49",
         "20",
         "5",
         "1",
         "23",
         "5",
         "5",
         "5",
         "5",
         "4.0",
         "57",
         "+26.789",
         "5493759",
         "49",
         "1",
         "1:33.193",
         "209.062",
         "1",
         "0.9375",
         "1.9695028411864353",
         "0.0",
         "10.0",
         "112"
        ],
        [
         "49",
         "50",
         "20",
         "15",
         "7",
         "11",
         "7",
         "6",
         "6",
         "6",
         "3.0",
         "57",
         "+41.314",
         "5508284",
         "45",
         "7",
         "1:34.204",
         "206.819",
         "1",
         "0.962890625",
         "1.8712452191904558",
         "0.0",
         "10.0",
         "256"
        ]
       ],
       "shape": {
        "columns": 23,
        "rows": 25840
       }
      },
      "text/html": [
       "<div>\n",
       "<style scoped>\n",
       "    .dataframe tbody tr th:only-of-type {\n",
       "        vertical-align: middle;\n",
       "    }\n",
       "\n",
       "    .dataframe tbody tr th {\n",
       "        vertical-align: top;\n",
       "    }\n",
       "\n",
       "    .dataframe thead th {\n",
       "        text-align: right;\n",
       "    }\n",
       "</style>\n",
       "<table border=\"1\" class=\"dataframe\">\n",
       "  <thead>\n",
       "    <tr style=\"text-align: right;\">\n",
       "      <th></th>\n",
       "      <th>resultId</th>\n",
       "      <th>raceId</th>\n",
       "      <th>driverId</th>\n",
       "      <th>constructorId</th>\n",
       "      <th>number</th>\n",
       "      <th>grid</th>\n",
       "      <th>position</th>\n",
       "      <th>positionText</th>\n",
       "      <th>positionOrder</th>\n",
       "      <th>points</th>\n",
       "      <th>...</th>\n",
       "      <th>fastestLap</th>\n",
       "      <th>rank</th>\n",
       "      <th>fastestLapTime</th>\n",
       "      <th>fastestLapSpeed</th>\n",
       "      <th>statusId</th>\n",
       "      <th>mean_points</th>\n",
       "      <th>sd_points</th>\n",
       "      <th>min_points</th>\n",
       "      <th>max_points</th>\n",
       "      <th>count_obs</th>\n",
       "    </tr>\n",
       "  </thead>\n",
       "  <tbody>\n",
       "    <tr>\n",
       "      <th>0</th>\n",
       "      <td>1</td>\n",
       "      <td>18</td>\n",
       "      <td>1</td>\n",
       "      <td>1</td>\n",
       "      <td>22</td>\n",
       "      <td>1</td>\n",
       "      <td>1</td>\n",
       "      <td>1</td>\n",
       "      <td>1</td>\n",
       "      <td>10.0</td>\n",
       "      <td>...</td>\n",
       "      <td>39</td>\n",
       "      <td>2</td>\n",
       "      <td>1:27.452</td>\n",
       "      <td>218.300</td>\n",
       "      <td>1</td>\n",
       "      <td>14.182258</td>\n",
       "      <td>9.224098</td>\n",
       "      <td>0.0</td>\n",
       "      <td>50.0</td>\n",
       "      <td>310</td>\n",
       "    </tr>\n",
       "    <tr>\n",
       "      <th>1</th>\n",
       "      <td>2</td>\n",
       "      <td>18</td>\n",
       "      <td>2</td>\n",
       "      <td>2</td>\n",
       "      <td>3</td>\n",
       "      <td>5</td>\n",
       "      <td>2</td>\n",
       "      <td>2</td>\n",
       "      <td>2</td>\n",
       "      <td>8.0</td>\n",
       "      <td>...</td>\n",
       "      <td>41</td>\n",
       "      <td>3</td>\n",
       "      <td>1:27.739</td>\n",
       "      <td>217.586</td>\n",
       "      <td>1</td>\n",
       "      <td>1.407609</td>\n",
       "      <td>2.372923</td>\n",
       "      <td>0.0</td>\n",
       "      <td>15.0</td>\n",
       "      <td>184</td>\n",
       "    </tr>\n",
       "    <tr>\n",
       "      <th>2</th>\n",
       "      <td>3</td>\n",
       "      <td>18</td>\n",
       "      <td>3</td>\n",
       "      <td>3</td>\n",
       "      <td>7</td>\n",
       "      <td>7</td>\n",
       "      <td>3</td>\n",
       "      <td>3</td>\n",
       "      <td>3</td>\n",
       "      <td>6.0</td>\n",
       "      <td>...</td>\n",
       "      <td>41</td>\n",
       "      <td>5</td>\n",
       "      <td>1:28.090</td>\n",
       "      <td>216.719</td>\n",
       "      <td>1</td>\n",
       "      <td>7.740291</td>\n",
       "      <td>8.672456</td>\n",
       "      <td>0.0</td>\n",
       "      <td>25.0</td>\n",
       "      <td>206</td>\n",
       "    </tr>\n",
       "    <tr>\n",
       "      <th>3</th>\n",
       "      <td>4</td>\n",
       "      <td>18</td>\n",
       "      <td>4</td>\n",
       "      <td>4</td>\n",
       "      <td>5</td>\n",
       "      <td>11</td>\n",
       "      <td>4</td>\n",
       "      <td>4</td>\n",
       "      <td>4</td>\n",
       "      <td>5.0</td>\n",
       "      <td>...</td>\n",
       "      <td>58</td>\n",
       "      <td>7</td>\n",
       "      <td>1:28.603</td>\n",
       "      <td>215.464</td>\n",
       "      <td>1</td>\n",
       "      <td>5.756983</td>\n",
       "      <td>6.330721</td>\n",
       "      <td>0.0</td>\n",
       "      <td>25.0</td>\n",
       "      <td>358</td>\n",
       "    </tr>\n",
       "    <tr>\n",
       "      <th>4</th>\n",
       "      <td>5</td>\n",
       "      <td>18</td>\n",
       "      <td>5</td>\n",
       "      <td>1</td>\n",
       "      <td>23</td>\n",
       "      <td>3</td>\n",
       "      <td>5</td>\n",
       "      <td>5</td>\n",
       "      <td>5</td>\n",
       "      <td>4.0</td>\n",
       "      <td>...</td>\n",
       "      <td>43</td>\n",
       "      <td>1</td>\n",
       "      <td>1:27.418</td>\n",
       "      <td>218.385</td>\n",
       "      <td>1</td>\n",
       "      <td>0.937500</td>\n",
       "      <td>1.969503</td>\n",
       "      <td>0.0</td>\n",
       "      <td>10.0</td>\n",
       "      <td>112</td>\n",
       "    </tr>\n",
       "    <tr>\n",
       "      <th>...</th>\n",
       "      <td>...</td>\n",
       "      <td>...</td>\n",
       "      <td>...</td>\n",
       "      <td>...</td>\n",
       "      <td>...</td>\n",
       "      <td>...</td>\n",
       "      <td>...</td>\n",
       "      <td>...</td>\n",
       "      <td>...</td>\n",
       "      <td>...</td>\n",
       "      <td>...</td>\n",
       "      <td>...</td>\n",
       "      <td>...</td>\n",
       "      <td>...</td>\n",
       "      <td>...</td>\n",
       "      <td>...</td>\n",
       "      <td>...</td>\n",
       "      <td>...</td>\n",
       "      <td>...</td>\n",
       "      <td>...</td>\n",
       "      <td>...</td>\n",
       "    </tr>\n",
       "    <tr>\n",
       "      <th>25835</th>\n",
       "      <td>25841</td>\n",
       "      <td>1096</td>\n",
       "      <td>854</td>\n",
       "      <td>210</td>\n",
       "      <td>47</td>\n",
       "      <td>12</td>\n",
       "      <td>16</td>\n",
       "      <td>16</td>\n",
       "      <td>16</td>\n",
       "      <td>0.0</td>\n",
       "      <td>...</td>\n",
       "      <td>39</td>\n",
       "      <td>12</td>\n",
       "      <td>1:29.833</td>\n",
       "      <td>211.632</td>\n",
       "      <td>11</td>\n",
       "      <td>0.272727</td>\n",
       "      <td>1.335798</td>\n",
       "      <td>0.0</td>\n",
       "      <td>8.0</td>\n",
       "      <td>44</td>\n",
       "    </tr>\n",
       "    <tr>\n",
       "      <th>25836</th>\n",
       "      <td>25842</td>\n",
       "      <td>1096</td>\n",
       "      <td>825</td>\n",
       "      <td>210</td>\n",
       "      <td>20</td>\n",
       "      <td>16</td>\n",
       "      <td>17</td>\n",
       "      <td>17</td>\n",
       "      <td>17</td>\n",
       "      <td>0.0</td>\n",
       "      <td>...</td>\n",
       "      <td>40</td>\n",
       "      <td>20</td>\n",
       "      <td>1:31.158</td>\n",
       "      <td>208.556</td>\n",
       "      <td>11</td>\n",
       "      <td>1.260563</td>\n",
       "      <td>2.771894</td>\n",
       "      <td>0.0</td>\n",
       "      <td>18.0</td>\n",
       "      <td>142</td>\n",
       "    </tr>\n",
       "    <tr>\n",
       "      <th>25837</th>\n",
       "      <td>25843</td>\n",
       "      <td>1096</td>\n",
       "      <td>1</td>\n",
       "      <td>131</td>\n",
       "      <td>44</td>\n",
       "      <td>5</td>\n",
       "      <td>18</td>\n",
       "      <td>18</td>\n",
       "      <td>18</td>\n",
       "      <td>0.0</td>\n",
       "      <td>...</td>\n",
       "      <td>42</td>\n",
       "      <td>11</td>\n",
       "      <td>1:29.788</td>\n",
       "      <td>211.738</td>\n",
       "      <td>9</td>\n",
       "      <td>14.182258</td>\n",
       "      <td>9.224098</td>\n",
       "      <td>0.0</td>\n",
       "      <td>50.0</td>\n",
       "      <td>310</td>\n",
       "    </tr>\n",
       "    <tr>\n",
       "      <th>25838</th>\n",
       "      <td>25844</td>\n",
       "      <td>1096</td>\n",
       "      <td>849</td>\n",
       "      <td>3</td>\n",
       "      <td>6</td>\n",
       "      <td>20</td>\n",
       "      <td>19</td>\n",
       "      <td>19</td>\n",
       "      <td>19</td>\n",
       "      <td>0.0</td>\n",
       "      <td>...</td>\n",
       "      <td>45</td>\n",
       "      <td>14</td>\n",
       "      <td>1:30.309</td>\n",
       "      <td>210.517</td>\n",
       "      <td>130</td>\n",
       "      <td>0.147541</td>\n",
       "      <td>0.813143</td>\n",
       "      <td>0.0</td>\n",
       "      <td>6.0</td>\n",
       "      <td>61</td>\n",
       "    </tr>\n",
       "    <tr>\n",
       "      <th>25839</th>\n",
       "      <td>25845</td>\n",
       "      <td>1096</td>\n",
       "      <td>4</td>\n",
       "      <td>214</td>\n",
       "      <td>14</td>\n",
       "      <td>10</td>\n",
       "      <td>\\N</td>\n",
       "      <td>R</td>\n",
       "      <td>20</td>\n",
       "      <td>0.0</td>\n",
       "      <td>...</td>\n",
       "      <td>24</td>\n",
       "      <td>17</td>\n",
       "      <td>1:30.579</td>\n",
       "      <td>209.889</td>\n",
       "      <td>47</td>\n",
       "      <td>5.756983</td>\n",
       "      <td>6.330721</td>\n",
       "      <td>0.0</td>\n",
       "      <td>25.0</td>\n",
       "      <td>358</td>\n",
       "    </tr>\n",
       "  </tbody>\n",
       "</table>\n",
       "<p>25840 rows × 23 columns</p>\n",
       "</div>"
      ],
      "text/plain": [
       "       resultId  raceId  driverId  constructorId number  grid position  \\\n",
       "0             1      18         1              1     22     1        1   \n",
       "1             2      18         2              2      3     5        2   \n",
       "2             3      18         3              3      7     7        3   \n",
       "3             4      18         4              4      5    11        4   \n",
       "4             5      18         5              1     23     3        5   \n",
       "...         ...     ...       ...            ...    ...   ...      ...   \n",
       "25835     25841    1096       854            210     47    12       16   \n",
       "25836     25842    1096       825            210     20    16       17   \n",
       "25837     25843    1096         1            131     44     5       18   \n",
       "25838     25844    1096       849              3      6    20       19   \n",
       "25839     25845    1096         4            214     14    10       \\N   \n",
       "\n",
       "      positionText  positionOrder  points  ...  fastestLap rank  \\\n",
       "0                1              1    10.0  ...          39    2   \n",
       "1                2              2     8.0  ...          41    3   \n",
       "2                3              3     6.0  ...          41    5   \n",
       "3                4              4     5.0  ...          58    7   \n",
       "4                5              5     4.0  ...          43    1   \n",
       "...            ...            ...     ...  ...         ...  ...   \n",
       "25835           16             16     0.0  ...          39   12   \n",
       "25836           17             17     0.0  ...          40   20   \n",
       "25837           18             18     0.0  ...          42   11   \n",
       "25838           19             19     0.0  ...          45   14   \n",
       "25839            R             20     0.0  ...          24   17   \n",
       "\n",
       "      fastestLapTime fastestLapSpeed statusId mean_points sd_points  \\\n",
       "0           1:27.452         218.300        1   14.182258  9.224098   \n",
       "1           1:27.739         217.586        1    1.407609  2.372923   \n",
       "2           1:28.090         216.719        1    7.740291  8.672456   \n",
       "3           1:28.603         215.464        1    5.756983  6.330721   \n",
       "4           1:27.418         218.385        1    0.937500  1.969503   \n",
       "...              ...             ...      ...         ...       ...   \n",
       "25835       1:29.833         211.632       11    0.272727  1.335798   \n",
       "25836       1:31.158         208.556       11    1.260563  2.771894   \n",
       "25837       1:29.788         211.738        9   14.182258  9.224098   \n",
       "25838       1:30.309         210.517      130    0.147541  0.813143   \n",
       "25839       1:30.579         209.889       47    5.756983  6.330721   \n",
       "\n",
       "       min_points  max_points  count_obs  \n",
       "0             0.0        50.0        310  \n",
       "1             0.0        15.0        184  \n",
       "2             0.0        25.0        206  \n",
       "3             0.0        25.0        358  \n",
       "4             0.0        10.0        112  \n",
       "...           ...         ...        ...  \n",
       "25835         0.0         8.0         44  \n",
       "25836         0.0        18.0        142  \n",
       "25837         0.0        50.0        310  \n",
       "25838         0.0         6.0         61  \n",
       "25839         0.0        25.0        358  \n",
       "\n",
       "[25840 rows x 23 columns]"
      ]
     },
<<<<<<< HEAD
     "execution_count": 26,
=======
     "execution_count": 66,
>>>>>>> upstream/main
     "metadata": {},
     "output_type": "execute_result"
    }
   ],
   "source": [
    "results_merge"
   ]
  },
  {
   "attachments": {},
   "cell_type": "markdown",
   "metadata": {},
   "source": [
    "<font size = \"5\">\n",
    "\n",
    "Check out another approach to compute <br>\n",
    "aggregate statistics using ``` .transform() ```<br>\n",
    " in the optional lecture!"
   ]
  },
  {
   "attachments": {},
   "cell_type": "markdown",
   "metadata": {},
   "source": [
    "<font size = \"5\">\n",
    "\n",
    "Try it yourself!\n",
    "\n",
    "- Compute a scatter plot with ...\n",
    "- \"points\" (y-axis) vs \"mean_points\" (x-axis)\n",
    "\n",
    "Note: This plots tells you how much a driver's <br>\n",
    "performance on individual races deviates from <br>\n",
    "their overall average"
   ]
  },
  {
   "cell_type": "code",
<<<<<<< HEAD
   "execution_count": null,
=======
   "execution_count": 67,
>>>>>>> upstream/main
   "metadata": {},
   "outputs": [
    {
     "data": {
      "text/plain": [
       "[<matplotlib.lines.Line2D at 0x146927290>]"
      ]
     },
     "execution_count": 31,
     "metadata": {},
     "output_type": "execute_result"
    },
    {
     "data": {
      "image/png": "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",
      "text/plain": [
       "<Figure size 640x480 with 1 Axes>"
      ]
     },
     "metadata": {},
     "output_type": "display_data"
    }
   ],
   "source": [
    "# Write your own code\n",
    "plt.scatter(x = results_merge[\"mean_points\"], y = results_merge[\"points\"])\n",
    "plt.plot(results_merge[\"mean_points\"],results_merge[\"points\"], color = 'green')\n",
    "\n",
    "plt.xlabel(\"X Variable\")\n",
    "plt.ylabel(\"Y Variable\")\n",
    "plt.legend(labels = [\"Data points\", \"Best fit line\"])\n",
    "plt.show()\n",
    "\n",
    "\n"
   ]
  },
  {
   "attachments": {},
   "cell_type": "markdown",
   "metadata": {},
   "source": [
    "<font size = \"5\">\n",
    "\n",
    "Try it yourself!\n",
    "\n",
    "- Merge the \"teamrace_agg\" data into \"results\"\n",
    "- This time use the option:\n",
    "\n",
    "$\\qquad$ ```on = [\"raceId\",\"constructorId\"]```"
   ]
  },
  {
   "cell_type": "code",
<<<<<<< HEAD
   "execution_count": 28,
=======
   "execution_count": 69,
>>>>>>> upstream/main
   "metadata": {},
   "outputs": [],
   "source": [
    "# Write your own code\n",
<<<<<<< HEAD
    "results_merge2= pd.merge(results,\n",
    "                         teamrace_agg, \n",
    "                         on=[\"raceId\", \"constructorId\"],\n",
    "                         )\n",
    "\n",
=======
    "\n",
    "results_merged2 = pd.merge(results,\n",
    "                           teamrace_agg,\n",
    "                           on = [\"raceId\",\"constructorId\"],\n",
    "                           how = \"left\")\n",
>>>>>>> upstream/main
    "\n",
    "\n",
    "\n"
   ]
  }
 ],
 "metadata": {
  "kernelspec": {
   "display_name": "base",
   "language": "python",
   "name": "python3"
  },
  "language_info": {
   "codemirror_mode": {
    "name": "ipython",
    "version": 3
   },
   "file_extension": ".py",
   "mimetype": "text/x-python",
   "name": "python",
   "nbconvert_exporter": "python",
   "pygments_lexer": "ipython3",
   "version": "3.12.9"
  },
  "orig_nbformat": 4,
  "vscode": {
   "interpreter": {
    "hash": "45fc1f684f6f416f40889115beff3ddf69879b64cf4bfee48cb72a61e9d15d1a"
   }
  }
 },
 "nbformat": 4,
 "nbformat_minor": 2
}
