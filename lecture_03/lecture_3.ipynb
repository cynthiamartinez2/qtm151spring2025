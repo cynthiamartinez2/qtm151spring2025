{
 "cells": [
  {
   "attachments": {},
   "cell_type": "markdown",
   "metadata": {},
   "source": [
    "# <span style=\"color:darkblue\"> Lecture 3: Mathematical Operations and Random Numbers </span>"
   ]
  },
  {
   "attachments": {},
   "cell_type": "markdown",
   "metadata": {},
   "source": [
    "<font size=\"5\"> \n",
    "\n",
    "In the previous class we:\n",
    "- Introduced lists and variable types\n",
    "- Talked about how to extract elements from a list"
   ]
  },
  {
   "attachments": {},
   "cell_type": "markdown",
   "metadata": {},
   "source": [
    "<font size=\"5\"> \n",
    "\n",
    "In this class we will:\n",
    "\n",
    "- Introduce a library for general mathematical operations\n",
    "- Generate random numbers\n",
    "- (Optional) Matrix operations"
   ]
  },
  {
   "attachments": {},
   "cell_type": "markdown",
   "metadata": {},
   "source": [
    "## <span style=\"color:darkblue\"> I. Import Libraries </span>"
   ]
  },
  {
   "cell_type": "code",
   "execution_count": 3,
   "metadata": {},
   "outputs": [
    {
     "name": "stdout",
     "output_type": "stream",
     "text": [
      "Intel MKL WARNING: Support of Intel(R) Streaming SIMD Extensions 4.2 (Intel(R) SSE4.2) enabled only processors has been deprecated. Intel oneAPI Math Kernel Library 2025.0 will require Intel(R) Advanced Vector Extensions (Intel(R) AVX) instructions.\n",
      "Intel MKL WARNING: Support of Intel(R) Streaming SIMD Extensions 4.2 (Intel(R) SSE4.2) enabled only processors has been deprecated. Intel oneAPI Math Kernel Library 2025.0 will require Intel(R) Advanced Vector Extensions (Intel(R) AVX) instructions.\n"
     ]
    }
   ],
   "source": [
    "# the \"numPy\" library is used for mathematical operations\n",
    "# the \"matplotlib\" library is for generating graphs\n",
    "\n",
    "import numpy as np\n",
    "import matplotlib.pyplot as plt\n"
   ]
  },
  {
   "attachments": {},
   "cell_type": "markdown",
   "metadata": {},
   "source": [
    "##  <span style=\"color:darkblue\"> II. Numbers and Functions </span>"
   ]
  },
  {
   "attachments": {},
   "cell_type": "markdown",
   "metadata": {},
   "source": [
    "<font size = \"5\" >\n",
    "Examples of numPy numbers"
   ]
  },
  {
   "cell_type": "code",
   "execution_count": 3,
   "metadata": {},
   "outputs": [
    {
     "data": {
      "text/plain": [
       "3.141592653589793"
      ]
     },
     "execution_count": 3,
     "metadata": {},
     "output_type": "execute_result"
    }
   ],
   "source": [
    "# Computes \"pi\" (3.14...)\n",
    "\n",
    "np.pi"
   ]
  },
  {
   "attachments": {},
   "cell_type": "markdown",
   "metadata": {},
   "source": [
    "<font size = \"5\" >\n",
    "\n",
    "Examples of numPy functions\n",
    "\n",
    "$ ln(x), e^x, sin(x), cos(x), \\sqrt{x}$"
   ]
  },
  {
   "cell_type": "code",
   "execution_count": 4,
   "metadata": {},
   "outputs": [
    {
     "name": "stdout",
     "output_type": "stream",
     "text": [
      "0.0\n",
      "2.718281828459045\n",
      "0.8414709848078965\n",
      "0.5403023058681398\n",
      "1.0\n"
     ]
    }
   ],
   "source": [
    "# log(x) computes the logarithm with base \"e\" (Euler constant)\n",
    "# exp(x) compute the Euler constant raised to the power of \"x\"\n",
    "# sing(x) computes the sine of x\n",
    "# cos(x) computes the cosine of x\n",
    "# In this example, we're substituting x = 1\n",
    "\n",
    "print(np.log(1))\n",
    "print(np.exp(1))\n",
    "print(np.sin(1))\n",
    "print(np.cos(1))\n",
    "print(np.sqrt(1))"
   ]
  },
  {
   "cell_type": "markdown",
   "metadata": {},
   "source": [
    "<font size = \"5\">\n",
    "\n",
    "Raising to the power of a number\n",
    "\n",
    "$ x^5 $"
   ]
  },
  {
   "cell_type": "code",
   "execution_count": 6,
   "metadata": {},
   "outputs": [
    {
     "data": {
      "text/plain": [
       "100000"
      ]
     },
     "execution_count": 6,
     "metadata": {},
     "output_type": "execute_result"
    }
   ],
   "source": [
    "x = 10\n",
    "x ** 5\n",
    "\n",
    "# Not x^5, this means 10^5 because we defined x by that "
   ]
  },
  {
   "attachments": {},
   "cell_type": "markdown",
   "metadata": {},
   "source": [
    "<font size = \"5\">\n",
    "\n",
    "Try it yourself!\n",
    "\n",
    "- Create a new variable, $x = 5$\n",
    "- Compute $\\pi x^2$\n",
    "- Compute $ \\frac{1}{\\sqrt{2\\pi}}e^{-x^2} $"
   ]
  },
  {
   "cell_type": "code",
<<<<<<< HEAD
   "execution_count": 7,
=======
   "execution_count": 12,
>>>>>>> upstream/main
   "metadata": {},
   "outputs": [
    {
     "name": "stdout",
     "output_type": "stream",
     "text": [
      "78.53981633974483\n"
     ]
    },
    {
     "data": {
      "text/plain": [
       "5.540487995575833e-12"
      ]
     },
     "execution_count": 12,
     "metadata": {},
     "output_type": "execute_result"
    }
   ],
   "source": [
    "# Write your own code\n",
<<<<<<< HEAD
    "x= 5\n",
    "print(np.pi * (x**2))\n",
    "print((np.exp(-x**2))/np.sqrt(2*np.pi))\n",
=======
    "\n",
    "x = 5\n",
>>>>>>> upstream/main
    "\n",
    "print(np.pi * (x ** 2))\n",
    "\n",
    "(np.exp(-x**2)) / np.sqrt(2*np.pi)"
   ]
  },
  {
   "attachments": {},
   "cell_type": "markdown",
   "metadata": {},
   "source": [
    "##  <span style=\"color:darkblue\"> III. Vector Arrays </span>"
   ]
  },
  {
   "attachments": {},
   "cell_type": "markdown",
   "metadata": {},
   "source": [
    "<font size = \"5\">\n",
    "Create an array from a list\n",
    "\n",
    "$ \\text{ }$\n",
    "$ a = \\begin{pmatrix} 1 \\\\ 2 \\\\ 3 \\end{pmatrix}\n",
    "\\qquad b = \\begin{pmatrix} 0 \\\\ 1 \\\\ 0\\end{pmatrix}\n",
    "\\qquad c = \\begin{pmatrix} 10 \\\\ 100 \\\\ 1000 \\\\ 2000 \\\\ 5000 \\end{pmatrix} \n",
    "\\qquad d = \\begin{pmatrix} 4 \\\\ 2 \\end{pmatrix} $"
   ]
  },
  {
   "cell_type": "code",
<<<<<<< HEAD
   "execution_count": 4,
=======
   "execution_count": 13,
>>>>>>> upstream/main
   "metadata": {},
   "outputs": [],
   "source": [
    "# You create an array by converting a list [1,2,3] to a numeric object\n",
    "# \"array\" is a subfunction of the library numPy.\n",
    "\n",
    "vec_a  = np.array(  [1,2,3]  )\n",
    "vec_b  = np.array(  [0,1,0]   )\n",
    "vec_c  = np.array([10,100,1000,2000,5000 ])\n"
   ]
  },
  {
   "attachments": {},
   "cell_type": "markdown",
   "metadata": {},
   "source": [
    "<font size = \"5\">\n",
    "\n",
    "Accessing an element of an array"
   ]
  },
  {
   "cell_type": "code",
   "execution_count": 15,
   "metadata": {},
   "outputs": [
    {
     "name": "stdout",
     "output_type": "stream",
     "text": [
      "1\n",
      "3\n"
     ]
    }
   ],
   "source": [
    "# Arrays, like lists, start their numbering at zero.\n",
    "# You also access them with square brackets\n",
    "\n",
    "print(vec_a[0])\n",
    "print(vec_a[2])\n"
   ]
  },
  {
   "attachments": {},
   "cell_type": "markdown",
   "metadata": {},
   "source": [
    "<font size = \"5\">\n",
    "Operations with a single array and a scalar"
   ]
  },
  {
   "attachments": {},
   "cell_type": "markdown",
   "metadata": {},
   "source": [
    "<font size = \"5\">\n",
    "\n",
    "$ a + 2 = \\begin{pmatrix} a_1 + 2 \\\\ a_2 + 2 \\\\ a_3 + 2 \\end{pmatrix}$"
   ]
  },
  {
   "cell_type": "code",
<<<<<<< HEAD
   "execution_count": 9,
=======
   "execution_count": 16,
>>>>>>> upstream/main
   "metadata": {},
   "outputs": [
    {
     "name": "stdout",
     "output_type": "stream",
     "text": [
      "[2 4 6]\n",
      "[0.5 1.  1.5]\n",
      "[3 4 5]\n",
      "[1 4 9]\n"
     ]
    }
   ],
   "source": [
    "# A scalar refers to either an int or float\n",
    "# We can do many common operations with \n",
    "\n",
    "print(vec_a * 2)\n",
    "print(vec_a / 2)\n",
    "print(vec_a + 2)\n",
    "print(vec_a ** 2)"
   ]
  },
  {
   "attachments": {},
   "cell_type": "markdown",
   "metadata": {},
   "source": [
    "<font size = \"5\">\n",
    "Element-by-element addition between two arrays of the same size\n",
    "\n",
    "$\\text{ }$\n",
    "\n",
    "$ a + b = \\begin{pmatrix} a_1 \\\\ a_2 \\\\ a_3 \\end{pmatrix} +\n",
    "          \\begin{pmatrix} b_1 \\\\ b_2 \\\\ b_3 \\end{pmatrix} =\n",
    "          \\begin{pmatrix} a_1 + b_1 \\\\ a_2 + b_2 \\\\ a_3 + b_3 \\end{pmatrix}$"
   ]
  },
  {
   "cell_type": "code",
   "execution_count": 17,
   "metadata": {},
   "outputs": [
    {
     "name": "stdout",
     "output_type": "stream",
     "text": [
      "[1 2 3]\n",
      "[0 1 0]\n"
     ]
    }
   ],
   "source": [
    "print(vec_a)\n",
    "print(vec_b)"
   ]
  },
  {
   "cell_type": "code",
   "execution_count": 18,
   "metadata": {},
   "outputs": [
    {
     "name": "stdout",
     "output_type": "stream",
     "text": [
      "[1 3 3]\n"
     ]
    }
   ],
   "source": [
    "# When you add two arrays of the same size,\n",
    "# Python adds the individual elements in each position\n",
    "\n",
    "print(vec_a + vec_b)\n"
   ]
  },
  {
   "attachments": {},
   "cell_type": "markdown",
   "metadata": {},
   "source": [
    "<font size =\"5\">\n",
    "\n",
    "The default multiplication option is element-by element:\n",
    "\n",
    "$ a * b = \\begin{pmatrix} a_1 * b_1 \\\\ a_2 * b_2 \\\\ a_3 * b_3 \\end{pmatrix}$"
   ]
  },
  {
   "cell_type": "code",
   "execution_count": 19,
   "metadata": {},
   "outputs": [
    {
     "name": "stdout",
     "output_type": "stream",
     "text": [
      "[0 2 0]\n",
      "[1 1 3]\n",
      "[inf  2. inf]\n"
     ]
    },
    {
     "name": "stderr",
     "output_type": "stream",
     "text": [
      "/var/folders/1b/jzb9ndz97b5260fzr9d8kzyh5f7xd6/T/ipykernel_25182/3839639845.py:6: RuntimeWarning: divide by zero encountered in divide\n",
      "  print(vec_a / vec_b)\n"
     ]
    }
   ],
   "source": [
    "# We can do other similar element-by-element operations\n",
    "# such as multiplication, subtraction, and division.\n",
    "\n",
    "print(vec_a * vec_b)\n",
    "print(vec_a - vec_b)\n",
    "print(vec_a / vec_b)\n"
   ]
  },
  {
   "attachments": {},
   "cell_type": "markdown",
   "metadata": {},
   "source": [
    "<font size = \"5\">\n",
    "Summary statistics of an array"
   ]
  },
  {
   "cell_type": "code",
   "execution_count": 20,
   "metadata": {},
   "outputs": [
    {
     "name": "stdout",
     "output_type": "stream",
     "text": [
      "2.0\n",
      "0.816496580927726\n",
      "1\n",
      "2.0\n",
      "3\n"
     ]
    }
   ],
   "source": [
    "# The function np.mean() computes the mean of an array\n",
    "# We can do similar operations for the standard deviation (std),\n",
    "# the minimum (min), the median (median), and the maximum (max).\n",
    "\n",
    "print(np.mean(vec_a))\n",
    "print(np.std(vec_a))\n",
    "print(np.min(vec_a))\n",
    "print(np.median(vec_a))\n",
    "print(np.max(vec_a))"
   ]
  },
  {
   "attachments": {},
   "cell_type": "markdown",
   "metadata": {},
   "source": [
    "<font size = \"5\">\n",
    "\n",
    "Try it yourself! Compute the median of\n",
    "\n",
    "\n",
    "$ e = \\begin{pmatrix} 10 \\\\ 8 \\\\ 15 \\\\ 0 \\\\ 24 \\end{pmatrix} $"
   ]
  },
  {
   "cell_type": "code",
<<<<<<< HEAD
   "execution_count": 10,
   "metadata": {},
   "outputs": [
    {
     "name": "stdout",
     "output_type": "stream",
     "text": [
      "11.4\n",
      "10.0\n"
     ]
=======
   "execution_count": 21,
   "metadata": {},
   "outputs": [
    {
     "data": {
      "text/plain": [
       "10.0"
      ]
     },
     "execution_count": 21,
     "metadata": {},
     "output_type": "execute_result"
>>>>>>> upstream/main
    }
   ],
   "source": [
    "# Create your own array and compute any of the above summary statistics\n",
    "\n",
    "e = np.array( [10,8,15,0,24] )\n",
    "\n",
<<<<<<< HEAD
    "print(np.mean(e))\n",
    "print(np.median(e))\n",
    "\n",
=======
    "np.median(e)\n",
>>>>>>> upstream/main
    "\n"
   ]
  },
  {
   "attachments": {},
   "cell_type": "markdown",
   "metadata": {},
   "source": [
    "<font size = \"5\">\n",
    "<span style=\"color:red\"> Common Pitfall </span>: Make sure that the arrays have the same size"
   ]
  },
  {
   "cell_type": "code",
   "execution_count": 22,
   "metadata": {},
   "outputs": [
    {
     "name": "stdout",
     "output_type": "stream",
     "text": [
      "[1 2 3]\n",
      "[  10  100 1000 2000 5000]\n"
     ]
    }
   ],
   "source": [
    "print(vec_a)\n",
    "print(vec_c)"
   ]
  },
  {
   "cell_type": "code",
   "execution_count": 23,
   "metadata": {},
   "outputs": [
    {
     "data": {
      "text/plain": [
       "(3,)"
      ]
     },
     "execution_count": 23,
     "metadata": {},
     "output_type": "execute_result"
    }
   ],
   "source": [
    "vec_a.shape"
   ]
  },
  {
   "cell_type": "code",
   "execution_count": 24,
   "metadata": {},
   "outputs": [
    {
     "ename": "ValueError",
     "evalue": "operands could not be broadcast together with shapes (3,) (5,) ",
     "output_type": "error",
     "traceback": [
      "\u001b[0;31m---------------------------------------------------------------------------\u001b[0m",
      "\u001b[0;31mValueError\u001b[0m                                Traceback (most recent call last)",
      "Cell \u001b[0;32mIn[24], line 3\u001b[0m\n\u001b[1;32m      1\u001b[0m \u001b[38;5;66;03m# Here I try to combine two arrays of different size.\u001b[39;00m\n\u001b[0;32m----> 3\u001b[0m \u001b[43mvec_a\u001b[49m\u001b[43m \u001b[49m\u001b[38;5;241;43m+\u001b[39;49m\u001b[43m \u001b[49m\u001b[43mvec_c\u001b[49m\n",
      "\u001b[0;31mValueError\u001b[0m: operands could not be broadcast together with shapes (3,) (5,) "
     ]
    }
   ],
   "source": [
    "# Here I try to combine two arrays of different size.\n",
    "\n",
    "vec_a + vec_c"
   ]
  },
  {
   "attachments": {},
   "cell_type": "markdown",
   "metadata": {},
   "source": [
    "##  <span style=\"color:darkblue\"> IV. Random Numbers </span>\n",
    "\n",
    "<font size = \"5\">\n",
    "\n",
    "Why randomness?\n",
    "\n",
    "- Simulate different scenarios: high risk or low risk\n",
    "- Study properties of a complex system and/or estimator\n",
    "- In medicine, randomly assign subjects to treatment or control"
   ]
  },
  {
   "attachments": {},
   "cell_type": "markdown",
   "metadata": {},
   "source": [
    "<font size = \"5\">\n",
    "\n",
    "Create a vector of random variables"
   ]
  },
  {
   "cell_type": "code",
   "execution_count": 52,
   "metadata": {},
   "outputs": [
    {
     "name": "stdout",
     "output_type": "stream",
     "text": [
      "[ 1.20872922 -0.14077811 -0.33365123  0.29247472 -1.85913531 -1.17988654\n",
      " -0.85624028 -0.82051081 -2.02808527 -1.43143449]\n"
     ]
    }
   ],
   "source": [
    "# This code creates a vector of random variables \n",
    "# generated from a normal distribution with\n",
    "# mean \"loc\" (location) and standard deviation \"scale\"\n",
    "# the number of distinct variabels is \"size\"\n",
    "\n",
    "randomvar_a = np.random.normal(loc=0, scale=1, size=10)\n",
    "print(randomvar_a)"
   ]
  },
  {
   "attachments": {},
   "cell_type": "markdown",
   "metadata": {},
   "source": [
    "<font size = \"5\">\n",
    "\n",
    "Random numbers differ every time!\n",
    "\n",
    "- Avoid this problem by drawing from a \"pregenerated\" set.\n",
    "- This is called a seed"
   ]
  },
  {
   "cell_type": "code",
<<<<<<< HEAD
   "execution_count": 36,
=======
   "execution_count": 67,
>>>>>>> upstream/main
   "metadata": {},
   "outputs": [
    {
     "name": "stdout",
     "output_type": "stream",
     "text": [
      "[ 1.62434536 -0.61175641 -0.52817175 -1.07296862  0.86540763 -2.3015387\n",
      "  1.74481176 -0.7612069   0.3190391  -0.24937038]\n"
     ]
    }
   ],
   "source": [
    "# Your computer will typically generate different numbers every time you run a command\n",
    "# However, sometimes you want to be able to replicate the results\n",
    "# You can choose any other number instead of \"12345\". This will produce another set\n",
    "# of random numbers, but they will give the same answers\n",
    "\n",
    "np.random.seed(1)\n",
<<<<<<< HEAD
    "\n",
=======
>>>>>>> upstream/main
    "random_var_b = np.random.normal(loc=0, scale=1, size=10)\n",
    "\n",
    "print(random_var_b)"
   ]
  },
  {
   "attachments": {},
   "cell_type": "markdown",
   "metadata": {},
   "source": [
    "<font size = \"5\">\n",
    "\n",
    "Compute a histogram with the results"
   ]
  },
  {
   "cell_type": "code",
<<<<<<< HEAD
   "execution_count": 28,
=======
   "execution_count": 68,
>>>>>>> upstream/main
   "metadata": {},
   "outputs": [
    {
     "data": {
      "text/plain": [
       "Text(0, 0.5, 'Frequency')"
      ]
     },
<<<<<<< HEAD
     "execution_count": 28,
=======
     "execution_count": 68,
>>>>>>> upstream/main
     "metadata": {},
     "output_type": "execute_result"
    },
    {
     "data": {
<<<<<<< HEAD
      "image/png": "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",
=======
      "image/png": "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",
>>>>>>> upstream/main
      "text/plain": [
       "<Figure size 640x480 with 1 Axes>"
      ]
     },
     "metadata": {},
     "output_type": "display_data"
    }
   ],
   "source": [
    "# Compute a histogram\n",
    "# You can edit the number of bins with plt.hist(x = randomvar_a)\n",
    "\n",
    "randomvar_x = np.random.normal(loc=0, scale=1, size=1000)\n",
    "\n",
    "plt.hist(x = randomvar_x)\n",
    "plt.xlabel(\"Variable a\")\n",
    "plt.ylabel(\"Frequency\")"
   ]
  },
  {
   "attachments": {},
   "cell_type": "markdown",
   "metadata": {},
   "source": [
    "<font size = \"5\">\n",
    "\n",
    "Try this again with $size = 100, 1000, 10000$"
   ]
  },
  {
   "cell_type": "code",
   "execution_count": 29,
   "metadata": {},
   "outputs": [],
   "source": [
    "# Write the code for your histogram\n",
    "\n",
    "# Compute a histogram\n",
    "# You can edit the number of bins with plt.hist(x = randomvar_a)\n",
    "\n",
    "\n"
   ]
  },
  {
   "attachments": {},
   "cell_type": "markdown",
   "metadata": {},
   "source": [
    "# <span style=\"color:darkblue\"> Additional Resources </span>\n",
    "\n",
    "<font size=\"5\"> \n",
    "\n",
    "Check out additional examples at:\n",
    "\n",
    "- https://allendowney.github.io/ElementsOfDataScience/03_arrays.html\n",
    "\n",
    "\n"
   ]
  },
  {
   "attachments": {},
   "cell_type": "markdown",
   "metadata": {},
   "source": [
    "# <span style=\"color:darkblue\"> (Optional) Matrix Operations </span>\n",
    "\n",
    "<font size=\"5\"> \n"
   ]
  },
  {
   "attachments": {},
   "cell_type": "markdown",
   "metadata": {},
   "source": [
    "<font size = \"5\">\n",
    "Creating a matrix by stacking different rows\n",
    "\n",
    "$ \\text{ }$\n",
    "\n",
    "$ X = \\begin{pmatrix} 1 & 2 & 3 \\\\ \n",
    "                       0 & 4 & 5 \\\\\n",
    "                       0 & 0 & 6\n",
    "                       \\end{pmatrix} $"
   ]
  },
  {
   "cell_type": "code",
   "execution_count": 30,
   "metadata": {},
   "outputs": [
    {
     "name": "stdout",
     "output_type": "stream",
     "text": [
      "[[1 2 3]\n",
      " [0 4 5]\n",
      " [0 0 6]]\n"
     ]
    }
   ],
   "source": [
    "# Matrices are usually denoted by capital letters\n",
    "# The object [[1,2,3],[4,5,6],[7,8,9]] is a list of lists\n",
    "# It's useful to maintain this notation in the code as well\n",
    "\n",
    "X = np.array([[1,2,3],[0,4,5],[0,0,6]])\n",
    "print(X)"
   ]
  },
  {
   "attachments": {},
   "cell_type": "markdown",
   "metadata": {},
   "source": [
    "<font size = \"5\">\n",
    "Creating a matrix by stacking different columns\n",
    "\n",
    "$ \\text{ } $\n",
    "\n",
    "$ Y = \\begin{pmatrix} 1 & 2 \\\\ 0 & 1 \\\\ 1 & 0 \\end{pmatrix}$"
   ]
  },
  {
   "cell_type": "code",
   "execution_count": 31,
   "metadata": {},
   "outputs": [
    {
     "name": "stdout",
     "output_type": "stream",
     "text": [
      "[[1 2]\n",
      " [0 1]\n",
      " [1 0]]\n"
     ]
    }
   ],
   "source": [
    "# You can also stack columns\n",
    "Y =  np.column_stack([[1,0,1],[2,1,0]])\n",
    "print(Y)"
   ]
  },
  {
   "attachments": {},
   "cell_type": "markdown",
   "metadata": {},
   "source": [
    "<font size = \"5\">\n",
    "Transpose\n",
    "\n",
    "$ \\text{ }$\n",
    "\n",
    "$ Y' = \\begin{pmatrix}  1 & 0 & 1 \\\\ 2 & 1 & 0  \\end{pmatrix} $"
   ]
  },
  {
   "cell_type": "code",
   "execution_count": 32,
   "metadata": {},
   "outputs": [
    {
     "data": {
      "text/plain": [
       "array([[1, 0, 1],\n",
       "       [2, 1, 0]])"
      ]
     },
     "execution_count": 32,
     "metadata": {},
     "output_type": "execute_result"
    }
   ],
   "source": [
    "# Matrix Transpose\n",
    "np.matrix.transpose(Y)"
   ]
  },
  {
   "attachments": {},
   "cell_type": "markdown",
   "metadata": {},
   "source": [
    "<font size = \"5\">\n",
    "\n",
    "Matrix multiplication\n",
    "\n",
    "$ XY = \\begin{pmatrix} 1 & 2 & 3 \\\\ \n",
    "                       0 & 4 & 5 \\\\\n",
    "                       0 & 0 & 6\n",
    "                       \\end{pmatrix}\n",
    "                       \\begin{pmatrix} 1 & 2 \\\\ 0 & 1 \\\\ 1 & 0 \\end{pmatrix} = \n",
    "        \\begin{pmatrix} 4 & 4 \\\\ 5 & 4 \\\\ 6 & 0 \\end{pmatrix} $"
   ]
  },
  {
   "cell_type": "code",
   "execution_count": 33,
   "metadata": {},
   "outputs": [
    {
     "data": {
      "text/plain": [
       "array([[4, 4],\n",
       "       [5, 4],\n",
       "       [6, 0]])"
      ]
     },
     "execution_count": 33,
     "metadata": {},
     "output_type": "execute_result"
    }
   ],
   "source": [
    "# Matrix Multiplication\n",
    "\n",
    "np.dot(X,Y)\n",
    "\n",
    "np.matmul(X,Y)"
   ]
  },
  {
   "attachments": {},
   "cell_type": "markdown",
   "metadata": {},
   "source": [
    "<font size = \"5\">\n",
    "\n",
    "Matrix inverse\n",
    "\n",
    "$ X^{-1} = \\begin{pmatrix} 1 & 2 & 3 \\\\ \n",
    "                       0 & 4 & 5 \\\\\n",
    "                       0 & 0 & 6\n",
    "                       \\end{pmatrix}^{-1} $"
   ]
  },
  {
   "cell_type": "code",
   "execution_count": 34,
   "metadata": {},
   "outputs": [
    {
     "name": "stdout",
     "output_type": "stream",
     "text": [
      "23.999999999999993\n",
      "[[ 1.         -0.5        -0.08333333]\n",
      " [ 0.          0.25       -0.20833333]\n",
      " [ 0.          0.          0.16666667]]\n"
     ]
    }
   ],
   "source": [
    "# Check the determinant of a matrix (a matrix is invertible if the determinant is not zero)\n",
    "print(np.linalg.det(X))\n",
    "\n",
    "# Matrix inverse\n",
    "# The following command stands for linear algebrar inverse.\n",
    "X_inv = np.linalg.inv(X)\n",
    "\n",
    "# Output the result\n",
    "print(X_inv)\n"
   ]
  },
  {
   "attachments": {},
   "cell_type": "markdown",
   "metadata": {},
   "source": [
    "<font size = \"5\">\n",
    "\n",
    "Try it yourself! Check that this is indeed an inverse:\n",
    "\n",
    "$X X_{inv} = \\begin{pmatrix} 1 & 0 & 0 \\\\ 0 & 1 & 0 \\\\ 0 & 0 & 1 \\end{pmatrix}$"
   ]
  },
  {
   "cell_type": "code",
   "execution_count": 35,
   "metadata": {},
   "outputs": [],
   "source": [
    "# Multiply \"X\" times \"X_inv\" using the command shown above\n",
    "# Note: Sometimes the result is shown in scientific notation.\n",
    "\n",
    "\n",
    "\n"
   ]
  }
 ],
 "metadata": {
  "kernelspec": {
   "display_name": "base",
   "language": "python",
   "name": "python3"
  },
  "language_info": {
   "codemirror_mode": {
    "name": "ipython",
    "version": 3
   },
   "file_extension": ".py",
   "mimetype": "text/x-python",
   "name": "python",
   "nbconvert_exporter": "python",
   "pygments_lexer": "ipython3",
<<<<<<< HEAD
   "version": "3.12.7"
=======
   "version": "3.9.18"
>>>>>>> upstream/main
  },
  "orig_nbformat": 4,
  "vscode": {
   "interpreter": {
    "hash": "45fc1f684f6f416f40889115beff3ddf69879b64cf4bfee48cb72a61e9d15d1a"
   }
  }
 },
 "nbformat": 4,
 "nbformat_minor": 2
}
